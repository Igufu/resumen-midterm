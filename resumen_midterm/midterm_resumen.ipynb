{
 "cells": [
  {
   "cell_type": "markdown",
   "metadata": {},
   "source": [
    "<p>\n",
    "<font size='5' face='Georgia, Arial'>Resumen Midterm Programación Avanzada</font><br>\n",
    "<font size='1'> Material creado en 2024-2 por Ignacio Gutiérrez.</font>\n",
    "</p>"
   ]
  },
  {
   "cell_type": "markdown",
   "metadata": {},
   "source": [
    "# ¿Qué es esto?\n",
    "Esto es un resumen para preparar la prueba midterm de programación avanzada :)"
   ]
  },
  {
   "cell_type": "markdown",
   "metadata": {},
   "source": [
    "# Contenidos\n",
    "\n",
    "1. [Modularización, paths y git](midterm%20resumen.ipynb#modularización-paths-y-git)\n",
    "2. EDD (Tuples, Sets, *args, etc.)\n",
    "3. OOP Avanzado\n",
    "4. [Modelacion OOP e iterables](#modelacion-oop-e-iterables)\n",
    "5. Excepciones\n",
    "6. Programación funcional\n"
   ]
  },
  {
   "cell_type": "markdown",
   "metadata": {},
   "source": [
    "# Motivación\n",
    "\n",
    "El midterm es una prueba que nos ayuda a absorber mejor los contenidos enseñados durante la primera mitad de este semestre, nos ayudara especialmente a como aplicarlos de manera apropiada y distinguir comportamientos raros en códigos."
   ]
  },
  {
   "cell_type": "markdown",
   "metadata": {},
   "source": [
    "## Modularización, paths y git\n",
    "\n",
    "1. [Modularización](#modularización)\n",
    "2. [Paths](#Paths)\n",
    "3. [git]\n",
    "\n"
   ]
  },
  {
   "cell_type": "markdown",
   "metadata": {},
   "source": [
    "## Modularización\n",
    "\n",
    "### ¿Qué es la modularización?\n",
    "En resumen la modularización consiste en separar de manera ordenada el código de un programa en diferentes archivos\n",
    "\n",
    "### Importación en python\n",
    "Para importar archivos en python se utiliza el comando `import`, digamos que tienes el archivo `utils.py`, para importarlo dentro de otro archivo puedes hacer esto:\n"
   ]
  },
  {
   "cell_type": "code",
   "execution_count": null,
   "metadata": {},
   "outputs": [],
   "source": [
    "import ejemplo"
   ]
  },
  {
   "cell_type": "code",
   "execution_count": null,
   "metadata": {},
   "outputs": [],
   "source": [
    "ejemplo.saludar()"
   ]
  },
  {
   "cell_type": "markdown",
   "metadata": {},
   "source": [
    "También se puede importar un módulo con un alias\n"
   ]
  },
  {
   "cell_type": "code",
   "execution_count": null,
   "metadata": {},
   "outputs": [],
   "source": [
    "import ejemplo as ej\n",
    "ej.saludar()"
   ]
  },
  {
   "cell_type": "markdown",
   "metadata": {},
   "source": [
    "También se puede importar de manera parcial, esto hará que no debamos escribir el nombre del módulo antes de la función"
   ]
  },
  {
   "cell_type": "code",
   "execution_count": 1,
   "metadata": {},
   "outputs": [],
   "source": [
    "from ejemplo import saludar, despedirse"
   ]
  },
  {
   "cell_type": "code",
   "execution_count": 2,
   "metadata": {},
   "outputs": [
    {
     "name": "stdout",
     "output_type": "stream",
     "text": [
      "Holi :)\n",
      "Chau :(\n"
     ]
    },
    {
     "ename": "NameError",
     "evalue": "name 'yapping' is not defined",
     "output_type": "error",
     "traceback": [
      "\u001b[0;31m---------------------------------------------------------------------------\u001b[0m",
      "\u001b[0;31mNameError\u001b[0m                                 Traceback (most recent call last)",
      "Cell \u001b[0;32mIn[2], line 3\u001b[0m\n\u001b[1;32m      1\u001b[0m saludar()\n\u001b[1;32m      2\u001b[0m despedirse()\n\u001b[0;32m----> 3\u001b[0m \u001b[43myapping\u001b[49m()\n",
      "\u001b[0;31mNameError\u001b[0m: name 'yapping' is not defined"
     ]
    }
   ],
   "source": [
    "saludar()\n",
    "despedirse()\n",
    "yapping()"
   ]
  },
  {
   "cell_type": "markdown",
   "metadata": {},
   "source": [
    "Esto último nos dió error ya que no importamos la función `yapping()` de `ejemplo.py`"
   ]
  },
  {
   "cell_type": "markdown",
   "metadata": {},
   "source": [
    "También si usamos la importación parcial y tratamos de usar el syntax de `modulo.función` nos dará un error:"
   ]
  },
  {
   "cell_type": "code",
   "execution_count": 3,
   "metadata": {},
   "outputs": [
    {
     "ename": "NameError",
     "evalue": "name 'ejemplo' is not defined",
     "output_type": "error",
     "traceback": [
      "\u001b[0;31m---------------------------------------------------------------------------\u001b[0m",
      "\u001b[0;31mNameError\u001b[0m                                 Traceback (most recent call last)",
      "Cell \u001b[0;32mIn[3], line 1\u001b[0m\n\u001b[0;32m----> 1\u001b[0m \u001b[43mejemplo\u001b[49m\u001b[38;5;241m.\u001b[39msaludar()\n",
      "\u001b[0;31mNameError\u001b[0m: name 'ejemplo' is not defined"
     ]
    }
   ],
   "source": [
    "ejemplo.saludar()"
   ]
  },
  {
   "cell_type": "markdown",
   "metadata": {},
   "source": [
    "### ¡No hacer esto!\n",
    "\n",
    "\n"
   ]
  },
  {
   "cell_type": "code",
   "execution_count": null,
   "metadata": {},
   "outputs": [],
   "source": [
    "from ejemplo import *"
   ]
  },
  {
   "cell_type": "markdown",
   "metadata": {},
   "source": [
    "Esto importa todas las funciones de nuestro módulo, pero es considerado muy mala práctica y es sancionado por el curso."
   ]
  },
  {
   "cell_type": "markdown",
   "metadata": {},
   "source": [
    "También según las reglas del PEP-8 las importaciones siempre deberían hacerse al comienzo de nuestro código"
   ]
  },
  {
   "cell_type": "markdown",
   "metadata": {},
   "source": [
    "## Orden de ejecución de imports\n",
    "\n",
    "De forma muy resumida los imports se ejecutan en orden ejecutando el archivo importado completamente\n",
    "\n",
    "A forma de ejemplo si tenemos `main.py` que importa `game.py` y este importa `utils.py`, al ejecutar `main.py` sería algo así:\n",
    "\n",
    "- Se ejecuta `main.py` hasta la línea de `import game`\n",
    "- Se ejecuta `game.py` hasta la línea de `import utils`\n",
    "- Se ejecuta `utils.py` completamente\n",
    "- Se ejecuta `game.py` completamente\n",
    "- Se ejecuta `main.py` completamente\n"
   ]
  },
  {
   "cell_type": "markdown",
   "metadata": {},
   "source": [
    "### `if __name__ == '__main__'`, ¿Qué es eso?, ¿Se come?\n",
    "\n"
   ]
  },
  {
   "cell_type": "markdown",
   "metadata": {},
   "source": [
    "La variable `__name__` simplemente nos da el nombre del módulo que está siendo ejecutado cuando se accede a una variable\n"
   ]
  },
  {
   "cell_type": "code",
   "execution_count": 4,
   "metadata": {},
   "outputs": [
    {
     "data": {
      "text/plain": [
       "'ejemplo'"
      ]
     },
     "execution_count": 4,
     "metadata": {},
     "output_type": "execute_result"
    }
   ],
   "source": [
    "import ejemplo\n",
    "\n",
    "ejemplo.__name__"
   ]
  },
  {
   "cell_type": "markdown",
   "metadata": {},
   "source": [
    "También será el nombre del módulo aunque tenga un alias diferente\n"
   ]
  },
  {
   "cell_type": "code",
   "execution_count": 5,
   "metadata": {},
   "outputs": [
    {
     "data": {
      "text/plain": [
       "'ejemplo'"
      ]
     },
     "execution_count": 5,
     "metadata": {},
     "output_type": "execute_result"
    }
   ],
   "source": [
    "import ejemplo as totallynotejemplo\n",
    "\n",
    "totallynotejemplo.__name__"
   ]
  },
  {
   "cell_type": "markdown",
   "metadata": {},
   "source": [
    "`if __name__ == '__main__'` simplemente se utiliza para asegurar que el módulo está siendo ejecutado como el principal, ya que `'__main__'` siempre es el nombre del módulo que se está ejecutando"
   ]
  },
  {
   "cell_type": "code",
   "execution_count": 8,
   "metadata": {},
   "outputs": [
    {
     "data": {
      "text/plain": [
       "'__main__'"
      ]
     },
     "execution_count": 8,
     "metadata": {},
     "output_type": "execute_result"
    }
   ],
   "source": [
    "__name__"
   ]
  },
  {
   "cell_type": "markdown",
   "metadata": {},
   "source": [
    "Algúnas ventajas de usar módulos son: tener código más ordenado, código más fácil de debuggear, mejor abstracción de componentes para enfocarse en el funcionamiento del programa, etc."
   ]
  },
  {
   "cell_type": "markdown",
   "metadata": {},
   "source": [
    "### Pregunta\n",
    "\n"
   ]
  },
  {
   "cell_type": "markdown",
   "metadata": {},
   "source": [
    "<center><img src=\"data/p_modularizacion.png\" alt=\"pregunta_mod\" style=\"width: 600px;\"/></center>"
   ]
  },
  {
   "cell_type": "markdown",
   "metadata": {},
   "source": [
    "<details>\n",
    "  <summary>Respuesta</summary>\n",
    "  C)\n",
    "</details>\n"
   ]
  },
  {
   "cell_type": "markdown",
   "metadata": {},
   "source": [
    "## Paths\n"
   ]
  },
  {
   "cell_type": "markdown",
   "metadata": {},
   "source": [
    "## Módulo `os`"
   ]
  },
  {
   "cell_type": "markdown",
   "metadata": {},
   "source": [
    "El módulo [`os`](https://docs.python.org/3/library/os.html) de Python nos provee una interfaz portable para ejecutar operaciones relacionadas al sistema operativo y al sistema de archivos. Lo este caso lo usaremos para hacer operaciones sobre *paths* con `os.path`"
   ]
  },
  {
   "cell_type": "code",
   "execution_count": 1,
   "metadata": {},
   "outputs": [],
   "source": [
    "import os"
   ]
  },
  {
   "cell_type": "markdown",
   "metadata": {},
   "source": [
    "## Paths y archivos\n"
   ]
  },
  {
   "cell_type": "markdown",
   "metadata": {},
   "source": [
    "Un path o ruta en español se refiere al lugar donde se encuentra un archivo, si te has dado cuenta los archivos y carpetas en un computador están guardados de manera jerárquica, un *path* simplemente se refiere a la ruta de un archivo o carpeta dentro de esta jerarquía.\n"
   ]
  },
  {
   "cell_type": "markdown",
   "metadata": {},
   "source": [
    "### Paths absolutos y relativos\n"
   ]
  },
  {
   "cell_type": "markdown",
   "metadata": {},
   "source": [
    "- Un **path absoluto** comienza desde la raíz (o *root*) del directiorio de archivos, generalmente esta raíz es representada por un `/` aunque en windows (le gusta ser diferente) se presenta también como `\\` o `C:/`, los paths absolutos tienen la ventaja de no ser ambiguos, pero requieren una ruta **exactamente igual** en todos los sistemas para que se pueda ejecutar un programa (no recomendado).\n",
    "\n",
    "- Un **path relativo** jamás desde la raíz (o *root*) del directiorio de archivos, permite referenciar un directorio de manera más simple ya que no recurre a la jerarquía entera (también es lo que usamos generalmente en las tareas), igual hay que tener cuidado ejecutarlo de un directorio diferente, especialmente en diferentes sistemas operativos."
   ]
  },
  {
   "cell_type": "markdown",
   "metadata": {},
   "source": [
    "### `dirname` y `basename`"
   ]
  },
  {
   "cell_type": "markdown",
   "metadata": {},
   "source": [
    "- `dirname`: simplemente se refiere a la carpeta donde se encuentra un archivo\n",
    "- `basename`: es el nombre del archivo objetivo (también se le llama `filename`)"
   ]
  },
  {
   "cell_type": "code",
   "execution_count": 2,
   "metadata": {},
   "outputs": [
    {
     "name": "stdout",
     "output_type": "stream",
     "text": [
      "path: /carpeta1/carpeta2/veryimportantstuff.tex\n",
      "dirname: /carpeta1/carpeta2\n",
      "basename: veryimportantstuff.tex\n"
     ]
    }
   ],
   "source": [
    "my_path = '/carpeta1/carpeta2/veryimportantstuff.tex'\n",
    "\n",
    "dirname1 = os.path.dirname(my_path)\n",
    "basename1 = os.path.basename(my_path)\n",
    "\n",
    "print(f'path: {my_path}')\n",
    "print(f'dirname: {dirname1}')\n",
    "print(f'basename: {basename1}')"
   ]
  },
  {
   "cell_type": "code",
   "execution_count": 4,
   "metadata": {},
   "outputs": [
    {
     "name": "stdout",
     "output_type": "stream",
     "text": [
      "path: /Users/Documents/IIC2233/iic2233github_user/Tareas/T3/main.py\n",
      "dirname: /Users/Documents/IIC2233/iic2233github_user/Tareas/T3\n",
      "basename: main.py\n"
     ]
    }
   ],
   "source": [
    "# Una ruta un poco más realista\n",
    "my_path2 = '/Users/Documents/IIC2233/iic2233github_user/Tareas/T3/main.py'\n",
    "\n",
    "dirname2 = os.path.dirname(path2)\n",
    "basename2 = os.path.basename(path2)\n",
    "\n",
    "print(f'path: {my_path2}')\n",
    "print(f'dirname: {dirname2}')\n",
    "print(f'basename: {basename2}')"
   ]
  },
  {
   "cell_type": "markdown",
   "metadata": {},
   "source": [
    "### Extensiones de archivo"
   ]
  },
  {
   "cell_type": "markdown",
   "metadata": {},
   "source": [
    "Con `os.path.splitext()` podemos conseguir las extensiones de archivo de nuestros archivos, esto sirve para darle una pista al usuario de como abrir el archivo o bien darle una pista al sistema operativo para que sepa con que programa leerlo."
   ]
  },
  {
   "cell_type": "code",
   "execution_count": null,
   "metadata": {},
   "outputs": [],
   "source": [
    "nombre_sin_extension, extension = os.path.splitext(basename2)\n",
    "print(f'Nombre: {nombre_sin_extension}')\n",
    "print(f'Extensión: {extension}')"
   ]
  },
  {
   "cell_type": "markdown",
   "metadata": {},
   "source": [
    "# Modelacion OOP e iterables"
   ]
  },
  {
   "cell_type": "markdown",
   "metadata": {},
   "source": [
    "Antes de comenzar con los contenidos de programacion en si, debemos tener claro que es un diagrama de clase, como hacerlo, para que sirve y como se ven.\n",
    "El **diagrama de clases** es una herramienta muy útil que permite visualizar fácilmente las clases que componen un sistema. Como en el curso elaboramos programas mas complejos, es necesario tener conocimiento de esto pues nos ayudara a organizarnos con nuestro codigo."
   ]
  },
  {
   "cell_type": "markdown",
   "metadata": {},
   "source": [
    "# Programación funcional \n"
   ]
  },
  {
   "cell_type": "markdown",
   "metadata": {},
   "source": [
    "Es un paradigma de programación que sigue una estructura lineal, es decir que no se centra en crear objetos, trata de que todo el comportamiento se vea encapsulado en **funciones**, en la programación funcional pura su resultado depende **solo** de los inputs de la función"
   ]
  },
  {
   "cell_type": "markdown",
   "metadata": {},
   "source": [
    "## Funciones generadoras\n"
   ]
  },
  {
   "cell_type": "markdown",
   "metadata": {},
   "source": [
    "Son muy similares a la funciones normales, pero en vez de retornar `return` usa `yield`, la gran diferencia entre estas dos es que `yield` no termina la ejecución del código"
   ]
  },
  {
   "cell_type": "code",
   "execution_count": null,
   "metadata": {},
   "outputs": [],
   "source": [
    "def cuadrados_perfectos(maximo):\n",
    "    i = 1\n",
    "    while i <= maximo:\n",
    "        yield i**2\n",
    "        i+=1\n",
    "\n",
    "generador = cuadrados_perfectos(20)\n",
    "print([a for a in generador])"
   ]
  }
 ],
 "metadata": {
  "kernelspec": {
   "display_name": "Python 3",
   "language": "python",
   "name": "python3"
  },
  "language_info": {
   "codemirror_mode": {
    "name": "ipython",
    "version": 3
   },
   "file_extension": ".py",
   "mimetype": "text/x-python",
   "name": "python",
   "nbconvert_exporter": "python",
   "pygments_lexer": "ipython3",
   "version": "3.11.7"
  }
 },
 "nbformat": 4,
 "nbformat_minor": 2
}
