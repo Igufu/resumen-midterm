{
 "cells": [
  {
   "cell_type": "markdown",
   "metadata": {},
   "source": [
    "<p>\n",
    "<font size='5' face='Georgia, Arial'>Resumen Midterm Programación Avanzada</font><br>\n",
    "<font size='1'> Material creado en 2024-2 por Ignacio Gutiérrez.</font>\n",
    "</p>"
   ]
  },
  {
   "cell_type": "markdown",
   "metadata": {},
   "source": [
    "# ¿Qué es esto?\n",
    "Esto es un resumen para preparar la prueba midterm de programación avanzada :)"
   ]
  },
  {
   "cell_type": "markdown",
   "metadata": {},
   "source": [
    "# Contenidos\n",
    "\n",
    "1. [Modularización, paths y git](midterm%20resumen.ipynb#modularización-paths-y-git)\n",
    "2. EDD (Tuples, Sets, *args, etc.)\n",
    "3. OOP Avanzado\n",
    "4. [Modelacion OOP e iterables](#modelacion-oop-e-iterables)\n",
    "5. [Excepciones](#excepciones)\n",
    "6. Programación funcional\n"
   ]
  },
  {
   "cell_type": "markdown",
   "metadata": {},
   "source": [
    "# Motivación\n",
    "\n",
    "El midterm es una prueba que nos ayuda a absorber mejor los contenidos enseñados durante la primera mitad de este semestre, nos ayudara especialmente a como aplicarlos de manera apropiada y distinguir comportamientos raros en códigos."
   ]
  },
  {
   "cell_type": "markdown",
   "metadata": {},
   "source": [
    "## Modularización, paths y git\n",
    "\n",
    "1. [Modularización](#modularización)\n",
    "2. [Paths](#Paths)\n",
    "3. [git]\n",
    "\n"
   ]
  },
  {
   "cell_type": "markdown",
   "metadata": {},
   "source": [
    "## Modularización\n",
    "\n",
    "### ¿Qué es la modularización?\n",
    "En resumen la modularización consiste en separar de manera ordenada el código de un programa en diferentes archivos\n",
    "\n",
    "### Importación en python\n",
    "Para importar archivos en python se utiliza el comando `import`, digamos que tienes el archivo `utils.py`, para importarlo dentro de otro archivo puedes hacer esto:\n"
   ]
  },
  {
   "cell_type": "code",
   "execution_count": 12,
   "metadata": {},
   "outputs": [],
   "source": [
    "import ejemplo"
   ]
  },
  {
   "cell_type": "code",
   "execution_count": 13,
   "metadata": {},
   "outputs": [
    {
     "name": "stdout",
     "output_type": "stream",
     "text": [
      "Holi :)\n"
     ]
    }
   ],
   "source": [
    "ejemplo.saludar()"
   ]
  },
  {
   "cell_type": "markdown",
   "metadata": {},
   "source": [
    "También se puede importar un módulo con un alias\n"
   ]
  },
  {
   "cell_type": "code",
   "execution_count": 14,
   "metadata": {},
   "outputs": [
    {
     "name": "stdout",
     "output_type": "stream",
     "text": [
      "Holi :)\n"
     ]
    }
   ],
   "source": [
    "import ejemplo as ej\n",
    "ej.saludar()"
   ]
  },
  {
   "cell_type": "markdown",
   "metadata": {},
   "source": [
    "También se puede importar de manera parcial, esto hará que no debamos escribir el nombre del módulo antes de la función"
   ]
  },
  {
   "cell_type": "code",
   "execution_count": 15,
   "metadata": {},
   "outputs": [],
   "source": [
    "from ejemplo import saludar, despedirse"
   ]
  },
  {
   "cell_type": "code",
   "execution_count": 16,
   "metadata": {},
   "outputs": [
    {
     "name": "stdout",
     "output_type": "stream",
     "text": [
      "Holi :)\n",
      "Chau :(\n"
     ]
    },
    {
     "ename": "NameError",
     "evalue": "name 'yapping' is not defined",
     "output_type": "error",
     "traceback": [
      "\u001b[1;31m---------------------------------------------------------------------------\u001b[0m",
      "\u001b[1;31mNameError\u001b[0m                                 Traceback (most recent call last)",
      "Cell \u001b[1;32mIn[16], line 3\u001b[0m\n\u001b[0;32m      1\u001b[0m saludar()\n\u001b[0;32m      2\u001b[0m despedirse()\n\u001b[1;32m----> 3\u001b[0m \u001b[43myapping\u001b[49m()\n",
      "\u001b[1;31mNameError\u001b[0m: name 'yapping' is not defined"
     ]
    }
   ],
   "source": [
    "saludar()\n",
    "despedirse()\n",
    "yapping()"
   ]
  },
  {
   "cell_type": "markdown",
   "metadata": {},
   "source": [
    "Esto último nos dió error ya que no importamos la función `yapping()` de `ejemplo.py`"
   ]
  },
  {
   "cell_type": "markdown",
   "metadata": {},
   "source": [
    "También si usamos la importación parcial y tratamos de usar el syntax de `modulo.función` nos dará un error:"
   ]
  },
  {
   "cell_type": "code",
   "execution_count": 3,
   "metadata": {},
   "outputs": [
    {
     "ename": "NameError",
     "evalue": "name 'ejemplo' is not defined",
     "output_type": "error",
     "traceback": [
      "\u001b[0;31m---------------------------------------------------------------------------\u001b[0m",
      "\u001b[0;31mNameError\u001b[0m                                 Traceback (most recent call last)",
      "Cell \u001b[0;32mIn[3], line 1\u001b[0m\n\u001b[0;32m----> 1\u001b[0m \u001b[43mejemplo\u001b[49m\u001b[38;5;241m.\u001b[39msaludar()\n",
      "\u001b[0;31mNameError\u001b[0m: name 'ejemplo' is not defined"
     ]
    }
   ],
   "source": [
    "ejemplo.saludar()"
   ]
  },
  {
   "cell_type": "markdown",
   "metadata": {},
   "source": [
    "### ¡No hacer esto!\n",
    "\n",
    "\n"
   ]
  },
  {
   "cell_type": "code",
   "execution_count": null,
   "metadata": {},
   "outputs": [],
   "source": [
    "from ejemplo import *"
   ]
  },
  {
   "cell_type": "markdown",
   "metadata": {},
   "source": [
    "Esto importa todas las funciones de nuestro módulo, pero es considerado muy mala práctica y es sancionado por el curso."
   ]
  },
  {
   "cell_type": "markdown",
   "metadata": {},
   "source": [
    "También según las reglas del PEP-8 las importaciones siempre deberían hacerse al comienzo de nuestro código"
   ]
  },
  {
   "cell_type": "markdown",
   "metadata": {},
   "source": [
    "## Orden de ejecución de imports\n",
    "\n",
    "De forma muy resumida los imports se ejecutan en orden ejecutando el archivo importado completamente\n",
    "\n",
    "A forma de ejemplo si tenemos `main.py` que importa `game.py` y este importa `utils.py`, al ejecutar `main.py` sería algo así:\n",
    "\n",
    "- Se ejecuta `main.py` hasta la línea de `import game`\n",
    "- Se ejecuta `game.py` hasta la línea de `import utils`\n",
    "- Se ejecuta `utils.py` completamente\n",
    "- Se ejecuta `game.py` completamente\n",
    "- Se ejecuta `main.py` completamente\n"
   ]
  },
  {
   "cell_type": "markdown",
   "metadata": {},
   "source": [
    "### `if __name__ == '__main__'`, ¿Qué es eso?, ¿Se come?\n",
    "\n"
   ]
  },
  {
   "cell_type": "markdown",
   "metadata": {},
   "source": [
    "La variable `__name__` simplemente nos da el nombre del módulo que está siendo ejecutado cuando se accede a una variable\n"
   ]
  },
  {
   "cell_type": "code",
   "execution_count": 4,
   "metadata": {},
   "outputs": [
    {
     "data": {
      "text/plain": [
       "'ejemplo'"
      ]
     },
     "execution_count": 4,
     "metadata": {},
     "output_type": "execute_result"
    }
   ],
   "source": [
    "import ejemplo\n",
    "\n",
    "ejemplo.__name__"
   ]
  },
  {
   "cell_type": "markdown",
   "metadata": {},
   "source": [
    "También será el nombre del módulo aunque tenga un alias diferente\n"
   ]
  },
  {
   "cell_type": "code",
   "execution_count": 5,
   "metadata": {},
   "outputs": [
    {
     "data": {
      "text/plain": [
       "'ejemplo'"
      ]
     },
     "execution_count": 5,
     "metadata": {},
     "output_type": "execute_result"
    }
   ],
   "source": [
    "import ejemplo as totallynotejemplo\n",
    "\n",
    "totallynotejemplo.__name__"
   ]
  },
  {
   "cell_type": "markdown",
   "metadata": {},
   "source": [
    "`if __name__ == '__main__'` simplemente se utiliza para asegurar que el módulo está siendo ejecutado como el principal, ya que `'__main__'` siempre es el nombre del módulo que se está ejecutando"
   ]
  },
  {
   "cell_type": "code",
   "execution_count": 8,
   "metadata": {},
   "outputs": [
    {
     "data": {
      "text/plain": [
       "'__main__'"
      ]
     },
     "execution_count": 8,
     "metadata": {},
     "output_type": "execute_result"
    }
   ],
   "source": [
    "__name__"
   ]
  },
  {
   "cell_type": "markdown",
   "metadata": {},
   "source": [
    "Algúnas ventajas de usar módulos son: tener código más ordenado, código más fácil de debuggear, mejor abstracción de componentes para enfocarse en el funcionamiento del programa, etc."
   ]
  },
  {
   "cell_type": "markdown",
   "metadata": {},
   "source": [
    "### Pregunta\n",
    "\n"
   ]
  },
  {
   "cell_type": "markdown",
   "metadata": {},
   "source": [
    "<center><img src=\"data/p_modularizacion.png\" alt=\"pregunta_mod\" style=\"width: 600px;\"/></center>"
   ]
  },
  {
   "cell_type": "markdown",
   "metadata": {},
   "source": [
    "<details>\n",
    "  <summary>Respuesta</summary>\n",
    "  C)\n",
    "</details>\n"
   ]
  },
  {
   "cell_type": "markdown",
   "metadata": {},
   "source": [
    "## Paths\n"
   ]
  },
  {
   "cell_type": "markdown",
   "metadata": {},
   "source": [
    "## Módulo `os`"
   ]
  },
  {
   "cell_type": "markdown",
   "metadata": {},
   "source": [
    "El módulo [`os`](https://docs.python.org/3/library/os.html) de Python nos provee una interfaz portable para ejecutar operaciones relacionadas al sistema operativo y al sistema de archivos. Lo este caso lo usaremos para hacer operaciones sobre *paths* con `os.path`"
   ]
  },
  {
   "cell_type": "code",
   "execution_count": 1,
   "metadata": {},
   "outputs": [],
   "source": [
    "import os"
   ]
  },
  {
   "cell_type": "markdown",
   "metadata": {},
   "source": [
    "## Paths y archivos\n"
   ]
  },
  {
   "cell_type": "markdown",
   "metadata": {},
   "source": [
    "Un path o ruta en español se refiere al lugar donde se encuentra un archivo, si te has dado cuenta los archivos y carpetas en un computador están guardados de manera jerárquica, un *path* simplemente se refiere a la ruta de un archivo o carpeta dentro de esta jerarquía.\n"
   ]
  },
  {
   "cell_type": "markdown",
   "metadata": {},
   "source": [
    "### Paths absolutos y relativos\n"
   ]
  },
  {
   "cell_type": "markdown",
   "metadata": {},
   "source": [
    "- Un **path absoluto** comienza desde la raíz (o *root*) del directiorio de archivos, generalmente esta raíz es representada por un `/` aunque en windows (le gusta ser diferente) se presenta también como `\\` o `C:/`, los paths absolutos tienen la ventaja de no ser ambiguos, pero requieren una ruta **exactamente igual** en todos los sistemas para que se pueda ejecutar un programa (no recomendado).\n",
    "\n",
    "- Un **path relativo** jamás desde la raíz (o *root*) del directiorio de archivos, permite referenciar un directorio de manera más simple ya que no recurre a la jerarquía entera (también es lo que usamos generalmente en las tareas), igual hay que tener cuidado ejecutarlo de un directorio diferente, especialmente en diferentes sistemas operativos."
   ]
  },
  {
   "cell_type": "markdown",
   "metadata": {},
   "source": [
    "### `dirname` y `basename`"
   ]
  },
  {
   "cell_type": "markdown",
   "metadata": {},
   "source": [
    "- `dirname`: simplemente se refiere a la carpeta donde se encuentra un archivo\n",
    "- `basename`: es el nombre del archivo objetivo (también se le llama `filename`)"
   ]
  },
  {
   "cell_type": "code",
   "execution_count": 2,
   "metadata": {},
   "outputs": [
    {
     "name": "stdout",
     "output_type": "stream",
     "text": [
      "path: /carpeta1/carpeta2/veryimportantstuff.tex\n",
      "dirname: /carpeta1/carpeta2\n",
      "basename: veryimportantstuff.tex\n"
     ]
    }
   ],
   "source": [
    "my_path = '/carpeta1/carpeta2/veryimportantstuff.tex'\n",
    "\n",
    "dirname1 = os.path.dirname(my_path)\n",
    "basename1 = os.path.basename(my_path)\n",
    "\n",
    "print(f'path: {my_path}')\n",
    "print(f'dirname: {dirname1}')\n",
    "print(f'basename: {basename1}')"
   ]
  },
  {
   "cell_type": "code",
   "execution_count": 4,
   "metadata": {},
   "outputs": [
    {
     "name": "stdout",
     "output_type": "stream",
     "text": [
      "path: /Users/Documents/IIC2233/iic2233github_user/Tareas/T3/main.py\n",
      "dirname: /Users/Documents/IIC2233/iic2233github_user/Tareas/T3\n",
      "basename: main.py\n"
     ]
    }
   ],
   "source": [
    "# Una ruta un poco más realista\n",
    "my_path2 = '/Users/Documents/IIC2233/iic2233github_user/Tareas/T3/main.py'\n",
    "\n",
    "dirname2 = os.path.dirname(path2)\n",
    "basename2 = os.path.basename(path2)\n",
    "\n",
    "print(f'path: {my_path2}')\n",
    "print(f'dirname: {dirname2}')\n",
    "print(f'basename: {basename2}')"
   ]
  },
  {
   "cell_type": "markdown",
   "metadata": {},
   "source": [
    "### Extensiones de archivo"
   ]
  },
  {
   "cell_type": "markdown",
   "metadata": {},
   "source": [
    "Con `os.path.splitext()` podemos conseguir las extensiones de archivo de nuestros archivos, esto sirve para darle una pista al usuario de como abrir el archivo o bien darle una pista al sistema operativo para que sepa con que programa leerlo."
   ]
  },
  {
   "cell_type": "code",
   "execution_count": null,
   "metadata": {},
   "outputs": [],
   "source": [
    "nombre_sin_extension, extension = os.path.splitext(basename2)\n",
    "print(f'Nombre: {nombre_sin_extension}')\n",
    "print(f'Extensión: {extension}')"
   ]
  },
  {
   "cell_type": "markdown",
   "metadata": {},
   "source": [
    "# Modelacion OOP e iterables"
   ]
  },
  {
   "cell_type": "markdown",
   "metadata": {},
   "source": [
    "## Diagrama de clases\n",
    "Antes de comenzar con los contenidos de programacion en si, debemos tener claro que es un diagrama de clase, como hacerlo, para que sirve y como se ven.\n",
    "El **diagrama de clases** es una herramienta muy útil que permite visualizar fácilmente las clases que componen un sistema. Como en el curso elaboramos programas mas complejos, es necesario tener conocimiento de esto pues nos ayudara a organizarnos con nuestro codigo y planificar mejor nuestros programas.\n",
    "### Elementos de un diagrama de clases\n",
    "Un diagrama de clases se compone de **clases** y **relaciones**.\n",
    "### Clases\n",
    "Las clases corresponden a las estructuras básicas que ***encapsulan*** la información. Gráficamente, como muestra la figura a continuación, representaremos una clase con un rectángulo dividido en tres niveles. El primer nivel contiene el nombre de la clase; el segundo contiene los atributos, _properties_ o variables propias de la clase; y, finalmente, el tercero contiene los métodos propios de la clase.\n",
    "\n",
    "![](data/UML_class.png)"
   ]
  },
  {
   "cell_type": "markdown",
   "metadata": {},
   "source": [
    "### Relaciones\n",
    "Los diagramas de clases explican cómo ocurre la interacción entre las clases dentro del sistema que modelamos, las cuales representamos como relaciones. A continuacion se mencionaran algunas de ellas: (extraido de ayudantias)\n",
    "* *Herencia:* Si una clase hereda de otra, **se conectarán ambas con una linea y un triángulo**. El triángulo apuntará **siempre** a la clase padre.\n",
    "* *Agregación:* Un objeto A contiene a otro objeto B en su interior (en una lista, en un atributo etc.), pero cumple con que **B puede funcionar independientemente de A**. En el diagrama se representa con una **línea y un diamante blanco** cerca de la clase que contiene a la otra.\n",
    "* *Composición:* Un objeto A contiene a otro objeto B en su interior (en una lista, en un atributo etc.), pero cumple con que **B solo existe dentro de A**. En el diagrama se representa con una línea y **un diamante negro** cerca de la clase que contiene a la otra.\n",
    "\n",
    "<p align=\"center\">\n",
    "  <img src=\"data/ejemplo_grafica_clases.jpg\" alt=\"Si no carga revisa la carpeta data\" width= \"500\">\n",
    "</p>\n",
    "\n",
    "A continuacion se adjuntara una imagen (extraida de la ayudantia) que mostrara lo ya mencionado:\n",
    "<img src=\"data\\diagrama_de_clases.png\" alt=\"Imagen diagrama de ayudantia...\" width=\"850\" height=\"850\">\n"
   ]
  },
  {
   "cell_type": "markdown",
   "metadata": {},
   "source": [
    "## Clases abstractas\n",
    "Las clases abstractas en resumen, son clases \"molde\" que sirven para representar el comportamiento que deben tener todas las clases que hereden de ellas **como minimo**. Estas clases **NO PUEDEN SER INSTANCIADAS**, por ende, no se puede hacer esto:"
   ]
  },
  {
   "cell_type": "code",
   "execution_count": 11,
   "metadata": {},
   "outputs": [
    {
     "ename": "TypeError",
     "evalue": "Can't instantiate abstract class Guerrero with abstract method ataque",
     "output_type": "error",
     "traceback": [
      "\u001b[1;31m---------------------------------------------------------------------------\u001b[0m",
      "\u001b[1;31mTypeError\u001b[0m                                 Traceback (most recent call last)",
      "Cell \u001b[1;32mIn[11], line 8\u001b[0m\n\u001b[0;32m      6\u001b[0m         \u001b[38;5;28;01mreturn\u001b[39;00m \u001b[38;5;124m\"\u001b[39m\u001b[38;5;124mAtaqueeeeee!!!!!\u001b[39m\u001b[38;5;124m\"\u001b[39m\n\u001b[0;32m      7\u001b[0m \u001b[38;5;66;03m#--------------------------\u001b[39;00m\n\u001b[1;32m----> 8\u001b[0m guerrero \u001b[38;5;241m=\u001b[39m \u001b[43mGuerrero\u001b[49m\u001b[43m(\u001b[49m\u001b[43m)\u001b[49m\n",
      "\u001b[1;31mTypeError\u001b[0m: Can't instantiate abstract class Guerrero with abstract method ataque"
     ]
    }
   ],
   "source": [
    "from abc import ABC, abstractmethod\n",
    "\n",
    "class Guerrero(ABC):\n",
    "    @abstractmethod\n",
    "    def ataque(self):\n",
    "        return \"Ataqueeeeee!!!!!\"\n",
    "#--------------------------\n",
    "guerrero = Guerrero()"
   ]
  },
  {
   "cell_type": "markdown",
   "metadata": {},
   "source": [
    "Se define `Guerrero` haciendola abstracta (`ABC` y usando @abstracmethod). Su metodo `ataque` tambien es abstracto, entonces al momento de instanciar la clase nos tira ese error. \\\n",
    "**Una clase no se considera abstracta si no tiene al menos 1 @abstractmethod** \n",
    "Habiendo entendido lo anterior, se mostrara una aplicacion de clase abstracta:"
   ]
  },
  {
   "cell_type": "code",
   "execution_count": 29,
   "metadata": {},
   "outputs": [
    {
     "name": "stdout",
     "output_type": "stream",
     "text": [
      "No recibi daños del romano!\n",
      "Le hice 20 de daño al romano!\n",
      "El espartano me ataco! Ahora mi vida es de 80\n",
      "Le hice 16 de daño al espartano!\n",
      "El romano me ataco! Ahora mi vida es de 84\n",
      "Le hice 12 de daño al romano!\n",
      "El espartano me ataco! Ahora mi vida es de 68\n",
      "Le hice 17 de daño al espartano!\n",
      "El romano me ataco! Ahora mi vida es de 67\n",
      "Le hice 11 de daño al romano!\n",
      "El espartano me ataco! Ahora mi vida es de 57\n",
      "Le hice 21 de daño al espartano!\n",
      "El romano me ataco! Ahora mi vida es de 46\n",
      "Le hice 11 de daño al romano!\n",
      "El espartano me ataco! Ahora mi vida es de 46\n",
      "Le hice 19 de daño al espartano!\n",
      "El romano me ataco! Ahora mi vida es de 27\n",
      "Le hice 22 de daño al romano!\n",
      "El espartano me ataco! Ahora mi vida es de 24\n",
      "Le hice 12 de daño al espartano!\n",
      "El romano me ataco! Ahora mi vida es de 15\n",
      "Le hice 20 de daño al romano!\n",
      "El espartano me ataco! Ahora mi vida es de 4\n",
      "Has matado al Espartano!\n"
     ]
    }
   ],
   "source": [
    "from abc import ABC, abstractmethod\n",
    "import random\n",
    "class Guerrero(ABC):\n",
    "    def __init__(self, vida) -> None: #le quite el escudo pq me dio lata xd\n",
    "        self._vida = vida\n",
    "    \n",
    "    @property\n",
    "    def vida(self):\n",
    "        return self._vida\n",
    "    \n",
    "    @vida.setter\n",
    "    def vida(self, daño):\n",
    "        if daño > self._vida:\n",
    "            self._vida = 0\n",
    "        else:\n",
    "            self._vida = daño\n",
    "            return self._vida\n",
    "\n",
    "    @abstractmethod\n",
    "    def ataque(self):\n",
    "        pass\n",
    "\n",
    "    @abstractmethod\n",
    "    def daño(self):\n",
    "        pass\n",
    "\n",
    "class Espartano(Guerrero): #hereda de la clase abstracta\n",
    "    def __init__(self, vida: int) -> None: \n",
    "        super().__init__(vida) #hereda de la clase abstracta\n",
    "    \n",
    "    def ataque(self, daño: int, rival: object): #haciendo overriding del metodo\n",
    "        rival.vida-= daño\n",
    "        if rival.vida < 0:\n",
    "            return \"Has matado al romano!\"\n",
    "        else:\n",
    "            return f\"Le hice {daño} de daño al romano!\"\n",
    "        \n",
    "    def daño(self, daño): #haciendo overriding del metodo\n",
    "        if daño > 0: \n",
    "            print(f\"El romano me ataco! Ahora mi vida es de {self.vida}\")\n",
    "        else:\n",
    "            print(\"No recibi daños del romano!\")\n",
    "class Romano(Guerrero): #hereda de la clase abstracta\n",
    "    def __init__(self, vida: int) -> None:\n",
    "        super().__init__(vida) #hereda de la clase abstracta\n",
    "    \n",
    "    def ataque(self, daño: int, rival: object): #haciendo overriding del metodo\n",
    "        rival.vida-= daño\n",
    "        if rival.vida < 0:\n",
    "            return \"Has matado al Espartano!\"\n",
    "        else:\n",
    "            return f\"Le hice {daño} de daño al espartano!\"\n",
    "\n",
    "    def daño(self, daño): #haciendo overriding del metodo\n",
    "        if daño > 0: \n",
    "            print(f\"El espartano me ataco! Ahora mi vida es de {self.vida}\")\n",
    "        else:\n",
    "            print(\"No recibi daños del espartano!\")\n",
    "#--------------------------\n",
    "espartano = Espartano(100)\n",
    "romano = Romano(100)\n",
    "daño_romano = 0\n",
    "daño_espartano = 0\n",
    "while espartano.vida > 0 and romano.vida > 0:\n",
    "    if espartano.vida > 0:\n",
    "        daño_espartano = random.randint(10, 25)\n",
    "        espartano.daño(daño_romano)\n",
    "        print(espartano.ataque(daño_espartano, romano)) \n",
    "    if romano.vida > 0:\n",
    "        daño_romano = random.randint(10, 25)\n",
    "        romano.daño(daño_espartano)\n",
    "        print(romano.ataque(daño_romano, espartano))\n",
    "    \n",
    "        \n",
    "    "
   ]
  },
  {
   "cell_type": "markdown",
   "metadata": {},
   "source": [
    "Entonces, una clase es **abstracta** si:\n",
    "- Es una clase que no se debería instanciar directamente\n",
    "- Contiene uno o más métodos abstractos\n",
    "- Sus subclases implementan todos sus métodos abstractos"
   ]
  },
  {
   "cell_type": "markdown",
   "metadata": {},
   "source": [
    "## Iterables\n",
    " *Un **iterable** es un objeto que contiene una colección de elementos y que puede ser recorrido o **iterado** uno a uno. Un **iterador** es un objeto que proporciona un mecanismo para **iterar sobre un iterable**, avanzando de un elemento al siguiente hasta que se han recorrido todos los elementos.*\n",
    " \n",
    " Un **iterable** se puede utilizar/recorrer múltiples veces; en cambio un **iterador** solo puede utilizarse una única vez.  \n",
    " \n",
    " Esto se debe a que un **iterable** tiene el método `__iter__` implementado, y este **siempre** retorna un iterador.\n",
    " \n",
    " Por su parte, un **iterador** es un objeto que tiene el método `__next__` implementado, es decir puedo hacer `next(iterador)` y esto retornará un **valor**. Cuando el iterador se queda sin elementos que recorrer, levanta una excepción. \n",
    "\n",
    " *(info extraida de contenidos)*\n",
    "\n",
    " > Abro parentesis:\\\n",
    " > (En los contenidos aparece una seccion de *como crear tu iterador*, la informacion es mucha, entonces recomiendo leerse la semana 5 y asi poder entender a detalle, pues esto es un resumen de todos los contenidos)"
   ]
  },
  {
   "cell_type": "markdown",
   "metadata": {},
   "source": [
    "## Generadores\n",
    "Estos son un caso especial de los iteradores, pues estos nos **permiten iterar sobre secuencias de datos sin la necesidad de almacenarlos en alguna estructura especial**. Al momento de terminar de iterar, **el generador desaparece**.\n",
    "\n",
    "La forma de crear un generador es muy parecida a la *lista por comprension*, pero en vez de usar `[]`, se usan `()`"
   ]
  },
  {
   "cell_type": "code",
   "execution_count": 22,
   "metadata": {},
   "outputs": [
    {
     "name": "stdout",
     "output_type": "stream",
     "text": [
      "<class 'generator'>\n",
      "<class 'list'>\n"
     ]
    }
   ],
   "source": [
    "#al usar parentesis, es un generador\n",
    "generador_impares = (1+ (2* i) for i in range(10))\n",
    "#al usar corchetes es una lista\n",
    "lista_impares = [1+ (2* i) for i in range(10)] \n",
    "\n",
    "print(type(generador_impares)) #el generador\n",
    "print(type(lista_impares)) #la lista"
   ]
  },
  {
   "cell_type": "markdown",
   "metadata": {},
   "source": [
    "Ahora si iteramos con un `for` sobre el generador, nos da lo siguiente:\n",
    "> Parentesis:\\\n",
    "> (A continuacion se usara el `print(i, end=\" \")` donde `end=\" \"` para que el fin de un `print` sea solo un espacio y no un salto de línea (`\\n`))"
   ]
  },
  {
   "cell_type": "code",
   "execution_count": 23,
   "metadata": {},
   "outputs": [
    {
     "name": "stdout",
     "output_type": "stream",
     "text": [
      "1 3 5 7 9 11 13 15 17 19 \n",
      "Ahora viene la lista:\n",
      "1 3 5 7 9 11 13 15 17 19 "
     ]
    }
   ],
   "source": [
    "for i in generador_impares: #primer uso del generador\n",
    "    print(i, end=\" \")\n",
    "print(\"\\nAhora viene la lista:\")\n",
    "for i in lista_impares:\n",
    "    print(i, end=\" \")"
   ]
  },
  {
   "cell_type": "markdown",
   "metadata": {},
   "source": [
    "Si ahora intentamos volver a iterar sobre el generador, como este ya no existe, pasara lo siguiente:"
   ]
  },
  {
   "cell_type": "code",
   "execution_count": 25,
   "metadata": {},
   "outputs": [
    {
     "name": "stdout",
     "output_type": "stream",
     "text": [
      "\n",
      "Ahora viene la lista:\n",
      "1 3 5 7 9 11 13 15 17 19 "
     ]
    }
   ],
   "source": [
    "for i in generador_impares: #segundo uso del generador\n",
    "    print(i, end=\" \") #no imprime nada...\n",
    "print(\"\\nAhora viene la lista:\")\n",
    "for i in lista_impares:\n",
    "    print(i, end=\" \")"
   ]
  },
  {
   "cell_type": "markdown",
   "metadata": {},
   "source": [
    "Si queremos volver a iterar sobre el generador, tendremos que crear uno nuevo con la misma informacion. Para finalizar, los generadores son utiles para iterar con elementos que se usaran para una parte especifica del codigo, pues estos ocupan menos memoria."
   ]
  },
  {
   "cell_type": "markdown",
   "metadata": {},
   "source": [
    "## Listas ligadas\n",
    "para entender bien esto hay que saber que son los nodos.\n",
    "### Nodos\n",
    " Los nodos corresponden a la base de la estructura de datos. Esta es una unidad indivisible que se puede identificar a traves de un atributo llave *(key)*. Cada nodo tiene sus **nodos vecinos** y se encuentran relacionados. El conjunto de nodos nos permite definir estructuras de datos mas complejas, como lo pueden ser las listas ligadas.\n",
    "\n",
    "Habiendo definido los nodos, podemos hablar de las **listas ligadas**. Estas almacenan nodos en un orden secuencial (como listas, stacks, colas, etc.) en que cada nodo referencia a un **unico nodo sucesor**. El primer nodo de una lista ligada se llama ***cabeza***, mietras que el ultimo se le llama ***cola***.\n",
    "\n",
    "![Imagen de lista ligada](data/linkedlist.png)\n",
    "\n",
    "Las listas ligadas sirven para optimizar la ejecucion de algunas acciones. Po ejemplo, en una lista normal, hacer un `pop` del primer elemento implica mover todos los otros elementos una posición hacia atrás, lo cual es muy costoso. Una lista ligada, en cambio, solo tiene que crear una nuevo nodo cabeza que apunte hacia la cabeza que se tenía anteriormente, haciendo esta operación mucho menos costosa. La segunda razón es que, aunque sea difícil creerlo, hay lenguajes donde la `list` de python tal y conocemos no existe, y las listas son de tamaño fijo ([entre bajo su propio riesgo](https://es.wikipedia.org/wiki/Puntero_(informática))). En estos lenguajes (como C, por ejemplo) la lista ligada es de muchísima utilidad cuando queremos una estructura que nos permita tener un largo variable. (EXtraido de la ayudantia)\n",
    "> Esto es un resumen de todos los contenidos, por ende si hay mucha info. que no se puede resumir no se colocara en esta parte. Si quieren ver como crear una lista ligada, recomiendo revisar los contenidos de la semana 5 :).\n"
   ]
  },
  {
   "cell_type": "markdown",
   "metadata": {},
   "source": [
    "### Ejercicios de la seccion de modelamiento OOP e iteradores:\n",
    "1. A continuacion deberas dibujar el diagrama de clase del siguiente codigo: (extraido de contenidos)"
   ]
  },
  {
   "cell_type": "code",
   "execution_count": 19,
   "metadata": {},
   "outputs": [],
   "source": [
    "class Juego:\n",
    "\n",
    "    def __init__(self):\n",
    "        self.timestamp_inicio = 0\n",
    "        self.tiempo_actual = 0\n",
    "        self.personaje = Mario()\n",
    "        self.puntaje = 0\n",
    "        self.goombas = list()\n",
    "        self.champinones = list()\n",
    "        self.ladrillos = list()\n",
    "\n",
    "    def iniciar_juego():\n",
    "        pass\n",
    "\n",
    "    def finalizar_juego():\n",
    "        pass\n",
    "\n",
    "\n",
    "class Mario:\n",
    "\n",
    "    def __init__(self):\n",
    "        self.posicion_x = 0\n",
    "        self.posicion_y = 0\n",
    "        self.cantidad_de_vidas = 5\n",
    "        self.poderes = list()\n",
    "\n",
    "    def avanzar():\n",
    "        pass\n",
    "\n",
    "    def retroceder():\n",
    "        pass\n",
    "\n",
    "    def saltar():\n",
    "        pass\n",
    "\n",
    "    def disparar(poder):\n",
    "        pass\n",
    "\n",
    "class Goomba:\n",
    "    def __init__(self):\n",
    "        self.posicion_x = 0\n",
    "        self.posicion_y = 0\n",
    "        self.vivo = True\n",
    "\n",
    "class Champinon:\n",
    "    def __init__(self, x, y):\n",
    "        self.posicion_x = x\n",
    "        self.posicion_y = y\n",
    "\n",
    "class Ladrillo:\n",
    "    def __init__(self, x, y):\n",
    "        self.posicion_x = x\n",
    "        self.posicion_y = y\n",
    "\n",
    "class LadrilloMoneda(Ladrillo):\n",
    "    def __init__(self, x, y):\n",
    "        super().__init__(x, y)\n",
    "        self.valor_moneda = 10\n",
    "\n",
    "class LadrilloMovil(Ladrillo):\n",
    "    def __init__(self, x, y):\n",
    "        super().__init__(x, y)\n",
    "        self.esconde_champinon = False\n"
   ]
  },
  {
   "cell_type": "markdown",
   "metadata": {},
   "source": [
    "2. Completa el siguiente codigo, para esto debes crear 3 clases:\n",
    "    1. Solaretillo\n",
    "    2. Potencilantro\n",
    "    3. Defensauce\n",
    "* Cada una de esas plantas tiene los atributos de: **tipo: str (S, P, D)/ vida_max: int/ vida: int/ resistencia: int**. Ademas todas las plantas tienen un metodo llamado \"informacion()\", que debe retornar un str que dice la informacion de la planta (todos los atributos). Tu trabajo es crear una clase abstracta y luego crear las plantas respectivas que heredan de la abstracta. Suerte :)"
   ]
  },
  {
   "cell_type": "code",
   "execution_count": 20,
   "metadata": {},
   "outputs": [],
   "source": [
    "from abc import ABC\n",
    "#crea la clase abstracta tu solo\n",
    "\n",
    "#-------\n",
    "class Solaretillo():\n",
    "    pass\n",
    "\n",
    "class Potencilantro():\n",
    "    pass\n",
    "\n",
    "class Defensauce():\n",
    "    pass\n",
    "\n",
    "\n",
    "#-------\n",
    "#aqui debes codear para probar que funcione :)"
   ]
  },
  {
   "cell_type": "markdown",
   "metadata": {},
   "source": [
    "# Excepciones\n",
    "En computacion, las excepciones se refieren a una condición anómala o inesperada que ocurre durante un proceso de cómputo (un error). Algunos procesos que generan excepciones pueden ser errores de sintaxis, dividir por 0, leer mas alla de los limites de una lista, etc. \n",
    "Si bien se puede programar codigo para que no ocurran algunas excepciones (usando `if`, `else`, etc...), el codigo se hace mas complicado de ver dependiendo de todas las condiciones posibles. Entonces en python se pueden **capturar** las excepciones para poder **manejarlas** o **ignorarlas**. \n",
    "Las excepciones son de la clase [`Exception`](https://docs.python.org/3/library/exceptions.html#Exception) y estas se pueden dividir en casos. Por ejemplo las **excepciones de tiempo de ejecucion** son aquellas que se generan solo cuando en el flujo del programa se llega a esa instruccion. Por ejemplo:"
   ]
  },
  {
   "cell_type": "code",
   "execution_count": 3,
   "metadata": {},
   "outputs": [
    {
     "name": "stdout",
     "output_type": "stream",
     "text": [
      "la suma es 8\n"
     ]
    }
   ],
   "source": [
    "num1 = 5\n",
    "num2 = 3\n",
    "zero = 0\n",
    "if num2 > 0:\n",
    "    num1+= num2\n",
    "    print(f\"la suma es {num1}\")\n",
    "else:\n",
    "    num1/= zero #aqui deberia dar un error"
   ]
  },
  {
   "cell_type": "markdown",
   "metadata": {},
   "source": [
    "En el codigo existe una division por 0, que deberia dar un error. Sin embargo en la ejecucion del codigo no se llega a esa parte debido a que `num2` debe ser menor a 0, pero como no lo es, solo se ejecuta la suma. Ahora veamos que pasa si `num2` es menor a 0:"
   ]
  },
  {
   "cell_type": "code",
   "execution_count": 4,
   "metadata": {},
   "outputs": [
    {
     "ename": "ZeroDivisionError",
     "evalue": "division by zero",
     "output_type": "error",
     "traceback": [
      "\u001b[1;31m---------------------------------------------------------------------------\u001b[0m",
      "\u001b[1;31mZeroDivisionError\u001b[0m                         Traceback (most recent call last)",
      "Cell \u001b[1;32mIn[4], line 8\u001b[0m\n\u001b[0;32m      6\u001b[0m     \u001b[38;5;28mprint\u001b[39m(\u001b[38;5;124mf\u001b[39m\u001b[38;5;124m\"\u001b[39m\u001b[38;5;124mla suma es \u001b[39m\u001b[38;5;132;01m{\u001b[39;00mnum1\u001b[38;5;132;01m}\u001b[39;00m\u001b[38;5;124m\"\u001b[39m)\n\u001b[0;32m      7\u001b[0m \u001b[38;5;28;01melse\u001b[39;00m:\n\u001b[1;32m----> 8\u001b[0m     \u001b[43mnum1\u001b[49m\u001b[38;5;241;43m/\u001b[39;49m\u001b[38;5;241;43m=\u001b[39;49m\u001b[43m \u001b[49m\u001b[43mzero\u001b[49m \u001b[38;5;66;03m#aqui deberia dar un error\u001b[39;00m\n",
      "\u001b[1;31mZeroDivisionError\u001b[0m: division by zero"
     ]
    }
   ],
   "source": [
    "num1 = 5\n",
    "num2 = -3\n",
    "zero = 0\n",
    "if num2 > 0:\n",
    "    num1+= num2\n",
    "    print(f\"la suma es {num1}\")\n",
    "else:\n",
    "    num1/= zero #aqui deberia dar un error"
   ]
  },
  {
   "cell_type": "markdown",
   "metadata": {},
   "source": [
    "## Tipos de excepciones\n",
    "* #### SyntaxError: Este error ocurre cuando una sentencia esta mal redactada. Esta excepcion se levanta **antes de ejecutar el programa**"
   ]
  },
  {
   "cell_type": "code",
   "execution_count": 3,
   "metadata": {},
   "outputs": [
    {
     "ename": "SyntaxError",
     "evalue": "unterminated string literal (detected at line 1) (1104029401.py, line 1)",
     "output_type": "error",
     "traceback": [
      "\u001b[1;36m  Cell \u001b[1;32mIn[3], line 1\u001b[1;36m\u001b[0m\n\u001b[1;33m    error = \"Error\u001b[0m\n\u001b[1;37m            ^\u001b[0m\n\u001b[1;31mSyntaxError\u001b[0m\u001b[1;31m:\u001b[0m unterminated string literal (detected at line 1)\n"
     ]
    }
   ],
   "source": [
    "error = \"Error\n",
    "error_impresion = print \"soy un error\"\n",
    "error_2_impresion = print(\"estoy fallado\"\n",
    "soy_una_variable mal echa\n"
   ]
  },
  {
   "cell_type": "markdown",
   "metadata": {},
   "source": [
    "* #### IdentationError: Un error que **hereda de `SyntaxError`** y se genera cuando un codigo esta mal identado (Cuando no se identa bien un if, for, elif, etc.). Para que el codigo funcione correctamente debe haber al menos 1 linea de codigo identada correctamente (y sin errores claro)."
   ]
  },
  {
   "cell_type": "code",
   "execution_count": 4,
   "metadata": {},
   "outputs": [
    {
     "ename": "IndentationError",
     "evalue": "expected an indented block after 'if' statement on line 2 (2516970272.py, line 3)",
     "output_type": "error",
     "traceback": [
      "\u001b[1;36m  Cell \u001b[1;32mIn[4], line 3\u001b[1;36m\u001b[0m\n\u001b[1;33m    print(\"Wena po mi waso <3\")\u001b[0m\n\u001b[1;37m    ^\u001b[0m\n\u001b[1;31mIndentationError\u001b[0m\u001b[1;31m:\u001b[0m expected an indented block after 'if' statement on line 2\n"
     ]
    }
   ],
   "source": [
    "nombre = \"Mora\"\n",
    "if nombre == \"Mora\":\n",
    "print(\"No me llamo mora xd\")"
   ]
  },
  {
   "cell_type": "markdown",
   "metadata": {},
   "source": [
    "* #### NameError: Se genera cuando no se encuentra un nombre de variable, funcion, etc. en el codigo debido a que no se importo, no asignaron la variable anteriormente, etc."
   ]
  },
  {
   "cell_type": "code",
   "execution_count": 5,
   "metadata": {},
   "outputs": [
    {
     "ename": "NameError",
     "evalue": "name 'nombre_usuario' is not defined",
     "output_type": "error",
     "traceback": [
      "\u001b[1;31m---------------------------------------------------------------------------\u001b[0m",
      "\u001b[1;31mNameError\u001b[0m                                 Traceback (most recent call last)",
      "Cell \u001b[1;32mIn[5], line 1\u001b[0m\n\u001b[1;32m----> 1\u001b[0m \u001b[38;5;28mprint\u001b[39m(\u001b[38;5;124mf\u001b[39m\u001b[38;5;124m\"\u001b[39m\u001b[38;5;124mHola!, mi nombre es \u001b[39m\u001b[38;5;132;01m{\u001b[39;00m\u001b[43mnombre_usuario\u001b[49m\u001b[38;5;132;01m}\u001b[39;00m\u001b[38;5;124m y estudio en la UC\u001b[39m\u001b[38;5;124m\"\u001b[39m)\n",
      "\u001b[1;31mNameError\u001b[0m: name 'nombre_usuario' is not defined"
     ]
    }
   ],
   "source": [
    "print(f\"Hola!, mi nombre es {nombre_usuario} y estudio en la UC\")"
   ]
  },
  {
   "cell_type": "code",
   "execution_count": 7,
   "metadata": {},
   "outputs": [
    {
     "ename": "NameError",
     "evalue": "name 'imprimir_frase' is not defined",
     "output_type": "error",
     "traceback": [
      "\u001b[1;31m---------------------------------------------------------------------------\u001b[0m",
      "\u001b[1;31mNameError\u001b[0m                                 Traceback (most recent call last)",
      "Cell \u001b[1;32mIn[7], line 2\u001b[0m\n\u001b[0;32m      1\u001b[0m nombre_usuario \u001b[38;5;241m=\u001b[39m \u001b[38;5;124m\"\u001b[39m\u001b[38;5;124mNacho\u001b[39m\u001b[38;5;124m\"\u001b[39m\n\u001b[1;32m----> 2\u001b[0m \u001b[43mimprimir_frase\u001b[49m(nombre_usuario)\n",
      "\u001b[1;31mNameError\u001b[0m: name 'imprimir_frase' is not defined"
     ]
    }
   ],
   "source": [
    "#imprimir frase se debe importar\n",
    "nombre_usuario = \"Nacho\"\n",
    "imprimir_frase(nombre_usuario) #funcion sin definir "
   ]
  },
  {
   "cell_type": "code",
   "execution_count": 8,
   "metadata": {},
   "outputs": [
    {
     "name": "stdout",
     "output_type": "stream",
     "text": [
      "Hola! Mi nombre es Nacho y estudio en la UC, por mi culpa destruyeron el muro\n"
     ]
    }
   ],
   "source": [
    "import funciones\n",
    "nombre_usuario = \"Nacho\"\n",
    "funciones.imprimir_frase(nombre_usuario) #se importa la funcion y asi se ejecuta correctamente"
   ]
  },
  {
   "cell_type": "markdown",
   "metadata": {},
   "source": [
    "* #### ZeroDivisionError: Como dice su nombre, es cuando se intenta dividir un numero por 0"
   ]
  },
  {
   "cell_type": "code",
   "execution_count": 9,
   "metadata": {},
   "outputs": [
    {
     "ename": "ZeroDivisionError",
     "evalue": "division by zero",
     "output_type": "error",
     "traceback": [
      "\u001b[1;31m---------------------------------------------------------------------------\u001b[0m",
      "\u001b[1;31mZeroDivisionError\u001b[0m                         Traceback (most recent call last)",
      "Cell \u001b[1;32mIn[9], line 4\u001b[0m\n\u001b[0;32m      2\u001b[0m b \u001b[38;5;241m=\u001b[39m \u001b[38;5;241m2\u001b[39m\n\u001b[0;32m      3\u001b[0m zero \u001b[38;5;241m=\u001b[39m \u001b[38;5;241m0\u001b[39m\n\u001b[1;32m----> 4\u001b[0m division \u001b[38;5;241m=\u001b[39m \u001b[43ma\u001b[49m\u001b[43m \u001b[49m\u001b[38;5;241;43m/\u001b[39;49m\u001b[43m \u001b[49m\u001b[43mzero\u001b[49m\n\u001b[0;32m      5\u001b[0m \u001b[38;5;28mprint\u001b[39m(division)\n",
      "\u001b[1;31mZeroDivisionError\u001b[0m: division by zero"
     ]
    }
   ],
   "source": [
    "a = 1\n",
    "b = 2\n",
    "zero = 0\n",
    "division = a / zero\n",
    "print(division)"
   ]
  },
  {
   "cell_type": "markdown",
   "metadata": {},
   "source": [
    "* #### IndexError: Se lanza este error cuando intentamos acceder a un indice de un str, lista, matriz, etc. que esta fuera del rango o no existe."
   ]
  },
  {
   "cell_type": "code",
   "execution_count": 11,
   "metadata": {},
   "outputs": [
    {
     "ename": "IndexError",
     "evalue": "list index out of range",
     "output_type": "error",
     "traceback": [
      "\u001b[1;31m---------------------------------------------------------------------------\u001b[0m",
      "\u001b[1;31mIndexError\u001b[0m                                Traceback (most recent call last)",
      "Cell \u001b[1;32mIn[11], line 2\u001b[0m\n\u001b[0;32m      1\u001b[0m lista \u001b[38;5;241m=\u001b[39m [\u001b[38;5;241m1\u001b[39m, \u001b[38;5;241m2\u001b[39m, \u001b[38;5;241m3\u001b[39m]\n\u001b[1;32m----> 2\u001b[0m valor_3 \u001b[38;5;241m=\u001b[39m \u001b[43mlista\u001b[49m\u001b[43m[\u001b[49m\u001b[38;5;241;43m3\u001b[39;49m\u001b[43m]\u001b[49m\n\u001b[0;32m      3\u001b[0m \u001b[38;5;28mprint\u001b[39m(valor_3)\n",
      "\u001b[1;31mIndexError\u001b[0m: list index out of range"
     ]
    }
   ],
   "source": [
    "lista = [1, 2, 3]\n",
    "valor_3 = lista[3] #el valor 3 no existe, pues la lista va desde el 0 al 2\n",
    "print(valor_3)"
   ]
  },
  {
   "cell_type": "markdown",
   "metadata": {},
   "source": [
    "* #### KeyError: Similar al `IndexError`, pero en vez de pasarnos del limite.. es cuando se usa incorrecamente las llaves en diccionarios y mappigns. "
   ]
  },
  {
   "cell_type": "code",
   "execution_count": 17,
   "metadata": {},
   "outputs": [
    {
     "ename": "KeyError",
     "evalue": "'Chelo'",
     "output_type": "error",
     "traceback": [
      "\u001b[1;31m---------------------------------------------------------------------------\u001b[0m",
      "\u001b[1;31mKeyError\u001b[0m                                  Traceback (most recent call last)",
      "Cell \u001b[1;32mIn[17], line 4\u001b[0m\n\u001b[0;32m      1\u001b[0m datos_personas \u001b[38;5;241m=\u001b[39m {\u001b[38;5;124m\"\u001b[39m\u001b[38;5;124mSeba\u001b[39m\u001b[38;5;124m\"\u001b[39m: \u001b[38;5;124m\"\u001b[39m\u001b[38;5;124mSe echo filosofia\u001b[39m\u001b[38;5;124m\"\u001b[39m,\n\u001b[0;32m      2\u001b[0m                   \u001b[38;5;124m\"\u001b[39m\u001b[38;5;124mNacho\u001b[39m\u001b[38;5;124m\"\u001b[39m: \u001b[38;5;124m\"\u001b[39m\u001b[38;5;124mPor el destruyeron el muro\u001b[39m\u001b[38;5;124m\"\u001b[39m,\n\u001b[0;32m      3\u001b[0m                   \u001b[38;5;124m\"\u001b[39m\u001b[38;5;124mGonza\u001b[39m\u001b[38;5;124m\"\u001b[39m: \u001b[38;5;124m\"\u001b[39m\u001b[38;5;124mSu 18 fav no es el de septiembre\u001b[39m\u001b[38;5;124m\"\u001b[39m}\n\u001b[1;32m----> 4\u001b[0m persona \u001b[38;5;241m=\u001b[39m \u001b[43mdatos_personas\u001b[49m\u001b[43m[\u001b[49m\u001b[38;5;124;43m\"\u001b[39;49m\u001b[38;5;124;43mChelo\u001b[39;49m\u001b[38;5;124;43m\"\u001b[39;49m\u001b[43m]\u001b[49m\n\u001b[0;32m      5\u001b[0m \u001b[38;5;28mprint\u001b[39m(persona)\n",
      "\u001b[1;31mKeyError\u001b[0m: 'Chelo'"
     ]
    }
   ],
   "source": [
    "datos_personas = {\"Seba\": \"Se echo filosofia\",\n",
    "                  \"Nacho\": \"Por el destruyeron el muro\",\n",
    "                  \"Gonza\": \"Su 18 fav no es el de septiembre\"}\n",
    "persona = datos_personas[\"Chelo\"]\n",
    "print(persona)"
   ]
  },
  {
   "cell_type": "markdown",
   "metadata": {},
   "source": [
    "* #### AttributeError: Excepcion que advierte sobre el uso incorrecto de metodos o atributos de una clase o tipo de dato."
   ]
  },
  {
   "cell_type": "code",
   "execution_count": 18,
   "metadata": {},
   "outputs": [
    {
     "ename": "AttributeError",
     "evalue": "'Auto' object has no attribute 'frenar'",
     "output_type": "error",
     "traceback": [
      "\u001b[1;31m---------------------------------------------------------------------------\u001b[0m",
      "\u001b[1;31mAttributeError\u001b[0m                            Traceback (most recent call last)",
      "Cell \u001b[1;32mIn[18], line 11\u001b[0m\n\u001b[0;32m      7\u001b[0m         \u001b[38;5;28mprint\u001b[39m(\u001b[38;5;124m\"\u001b[39m\u001b[38;5;124mavanzando\u001b[39m\u001b[38;5;124m\"\u001b[39m)\n\u001b[0;32m     10\u001b[0m chevi \u001b[38;5;241m=\u001b[39m Auto()\n\u001b[1;32m---> 11\u001b[0m \u001b[43mchevi\u001b[49m\u001b[38;5;241;43m.\u001b[39;49m\u001b[43mfrenar\u001b[49m() \u001b[38;5;66;03m#No existe este metodo en auto\u001b[39;00m\n",
      "\u001b[1;31mAttributeError\u001b[0m: 'Auto' object has no attribute 'frenar'"
     ]
    }
   ],
   "source": [
    "class Auto: #Ejemplo de contenidos\n",
    "\n",
    "    def __init__(self, puertas=4):\n",
    "        self.puertas = puertas\n",
    "\n",
    "    def avanzar(self):\n",
    "        print(\"avanzando\")\n",
    "\n",
    "\n",
    "chevi = Auto()\n",
    "chevi.frenar() #No existe este metodo en auto"
   ]
  },
  {
   "cell_type": "markdown",
   "metadata": {},
   "source": [
    "* #### TypeError: Esta excepcion indica que se esta manejando de manera erronea los datos. Es decir, puede que se este sumando un int y algo distinto a otro int, entregarle a una funcion un tipo de dato que no era, intentar llamar a un str, list, etc."
   ]
  },
  {
   "cell_type": "code",
   "execution_count": 19,
   "metadata": {},
   "outputs": [
    {
     "ename": "TypeError",
     "evalue": "can only concatenate str (not \"int\") to str",
     "output_type": "error",
     "traceback": [
      "\u001b[1;31m---------------------------------------------------------------------------\u001b[0m",
      "\u001b[1;31mTypeError\u001b[0m                                 Traceback (most recent call last)",
      "Cell \u001b[1;32mIn[19], line 6\u001b[0m\n\u001b[0;32m      3\u001b[0m     \u001b[38;5;28;01mreturn\u001b[39;00m numero\n\u001b[0;32m      5\u001b[0m num \u001b[38;5;241m=\u001b[39m \u001b[38;5;124m\"\u001b[39m\u001b[38;5;124merror\u001b[39m\u001b[38;5;124m\"\u001b[39m\n\u001b[1;32m----> 6\u001b[0m \u001b[38;5;28mprint\u001b[39m(\u001b[43mrecibo_ints\u001b[49m\u001b[43m(\u001b[49m\u001b[43mnum\u001b[49m\u001b[43m)\u001b[49m)\n",
      "Cell \u001b[1;32mIn[19], line 2\u001b[0m, in \u001b[0;36mrecibo_ints\u001b[1;34m(numero)\u001b[0m\n\u001b[0;32m      1\u001b[0m \u001b[38;5;28;01mdef\u001b[39;00m \u001b[38;5;21mrecibo_ints\u001b[39m(numero: \u001b[38;5;28mint\u001b[39m) \u001b[38;5;241m-\u001b[39m\u001b[38;5;241m>\u001b[39m \u001b[38;5;28mint\u001b[39m:\n\u001b[1;32m----> 2\u001b[0m     \u001b[43mnumero\u001b[49m\u001b[38;5;241;43m+\u001b[39;49m\u001b[38;5;241;43m=\u001b[39;49m\u001b[38;5;241;43m1\u001b[39;49m\n\u001b[0;32m      3\u001b[0m     \u001b[38;5;28;01mreturn\u001b[39;00m numero\n",
      "\u001b[1;31mTypeError\u001b[0m: can only concatenate str (not \"int\") to str"
     ]
    }
   ],
   "source": [
    "def recibo_ints(numero: int) -> int:\n",
    "    numero+=1 #se suma numero + 1\n",
    "    return numero\n",
    "\n",
    "num = \"error\"\n",
    "print(recibo_ints(num)) #error de que no se puede sumar numeros y str"
   ]
  },
  {
   "cell_type": "code",
   "execution_count": 20,
   "metadata": {},
   "outputs": [
    {
     "ename": "TypeError",
     "evalue": "can only concatenate list (not \"int\") to list",
     "output_type": "error",
     "traceback": [
      "\u001b[1;31m---------------------------------------------------------------------------\u001b[0m",
      "\u001b[1;31mTypeError\u001b[0m                                 Traceback (most recent call last)",
      "Cell \u001b[1;32mIn[20], line 2\u001b[0m\n\u001b[0;32m      1\u001b[0m lista_num \u001b[38;5;241m=\u001b[39m [\u001b[38;5;241m1\u001b[39m, \u001b[38;5;241m2\u001b[39m, \u001b[38;5;241m3\u001b[39m]\n\u001b[1;32m----> 2\u001b[0m suma \u001b[38;5;241m=\u001b[39m \u001b[43mlista_num\u001b[49m\u001b[43m \u001b[49m\u001b[38;5;241;43m+\u001b[39;49m\u001b[43m \u001b[49m\u001b[38;5;241;43m1\u001b[39;49m\n\u001b[0;32m      3\u001b[0m \u001b[38;5;28mprint\u001b[39m(suma)\n",
      "\u001b[1;31mTypeError\u001b[0m: can only concatenate list (not \"int\") to list"
     ]
    }
   ],
   "source": [
    "lista_num = [1, 2, 3]\n",
    "suma = lista_num + 1\n",
    "print(suma) #error de que no se puede sumar numeros y listas"
   ]
  },
  {
   "cell_type": "code",
   "execution_count": 21,
   "metadata": {},
   "outputs": [
    {
     "ename": "TypeError",
     "evalue": "'str' object is not callable",
     "output_type": "error",
     "traceback": [
      "\u001b[1;31m---------------------------------------------------------------------------\u001b[0m",
      "\u001b[1;31mTypeError\u001b[0m                                 Traceback (most recent call last)",
      "Cell \u001b[1;32mIn[21], line 2\u001b[0m\n\u001b[0;32m      1\u001b[0m nombre \u001b[38;5;241m=\u001b[39m \u001b[38;5;124m\"\u001b[39m\u001b[38;5;124mNo soy una funcion\u001b[39m\u001b[38;5;124m\"\u001b[39m\n\u001b[1;32m----> 2\u001b[0m \u001b[43mnombre\u001b[49m\u001b[43m(\u001b[49m\u001b[43m)\u001b[49m\n",
      "\u001b[1;31mTypeError\u001b[0m: 'str' object is not callable"
     ]
    }
   ],
   "source": [
    "nombre = \"No soy una funcion\"\n",
    "nombre() #Error de que se intenta llamar a nombre como una \"funcion\""
   ]
  },
  {
   "cell_type": "markdown",
   "metadata": {},
   "source": [
    "#### ValueError: Esta excepcion indica que hubo un manejo erroneo en los valores de los datos. Cuando se intenta ejecutar una operacion con un argumento que **no era apropiado para la ejecucion esperada**. Estos errores se pueden encontrar en el metodo `split`, en `remove`, etc."
   ]
  },
  {
   "cell_type": "code",
   "execution_count": 22,
   "metadata": {},
   "outputs": [
    {
     "ename": "ValueError",
     "evalue": "empty separator",
     "output_type": "error",
     "traceback": [
      "\u001b[1;31m---------------------------------------------------------------------------\u001b[0m",
      "\u001b[1;31mValueError\u001b[0m                                Traceback (most recent call last)",
      "Cell \u001b[1;32mIn[22], line 1\u001b[0m\n\u001b[1;32m----> 1\u001b[0m \u001b[38;5;124;43m\"\u001b[39;49m\u001b[38;5;124;43mMi string separable por espacios\u001b[39;49m\u001b[38;5;124;43m\"\u001b[39;49m\u001b[38;5;241;43m.\u001b[39;49m\u001b[43msplit\u001b[49m\u001b[43m(\u001b[49m\u001b[38;5;124;43m\"\u001b[39;49m\u001b[38;5;124;43m\"\u001b[39;49m\u001b[43m)\u001b[49m\n",
      "\u001b[1;31mValueError\u001b[0m: empty separator"
     ]
    }
   ],
   "source": [
    "\"Mi string separable por espacios\".split(\"\")"
   ]
  },
  {
   "cell_type": "markdown",
   "metadata": {},
   "source": [
    "Este error sucede debido a que el metodo necesita un string que **no este vacio**, para asi poder lograr separar una palabra."
   ]
  },
  {
   "cell_type": "code",
   "execution_count": 23,
   "metadata": {},
   "outputs": [
    {
     "ename": "ValueError",
     "evalue": "list.remove(x): x not in list",
     "output_type": "error",
     "traceback": [
      "\u001b[1;31m---------------------------------------------------------------------------\u001b[0m",
      "\u001b[1;31mValueError\u001b[0m                                Traceback (most recent call last)",
      "Cell \u001b[1;32mIn[23], line 2\u001b[0m\n\u001b[0;32m      1\u001b[0m lista \u001b[38;5;241m=\u001b[39m [\u001b[38;5;241m1\u001b[39m, \u001b[38;5;241m2\u001b[39m, \u001b[38;5;241m3\u001b[39m, \u001b[38;5;241m4\u001b[39m, \u001b[38;5;241m5\u001b[39m]\n\u001b[1;32m----> 2\u001b[0m \u001b[43mlista\u001b[49m\u001b[38;5;241;43m.\u001b[39;49m\u001b[43mremove\u001b[49m\u001b[43m(\u001b[49m\u001b[38;5;241;43m6\u001b[39;49m\u001b[43m)\u001b[49m\n\u001b[0;32m      3\u001b[0m lista\n",
      "\u001b[1;31mValueError\u001b[0m: list.remove(x): x not in list"
     ]
    }
   ],
   "source": [
    "lista = [1, 2, 3, 4, 5]\n",
    "lista.remove(6)\n",
    "lista"
   ]
  },
  {
   "cell_type": "markdown",
   "metadata": {},
   "source": [
    "Aqui arroja este error debido a que el metodo necesita que el elemento pedido este en la lista. \n",
    "#### Es importante notar la sutil diferencia entre `ValueError` y `TypeError`. De cierta forma, todo `TypeError` es un `ValueError`, ya que detecta problemas del tipo de un argumento, que inherentemente habla del valor recibido, pero no todo `ValueError` es un `TypeError`. Prueba de esto último fueron los últimos dos ejemplos, donde los argumentos tenían un tipo apropiado para el contexto, pero no el valor.\n",
    "#### Entonces por que definir y usar ambos? Pues porque es mas conveniente tener la mayor info. posible para el momento en que se lancen excepciones y asi poder manejarlas de una mejor manera."
   ]
  },
  {
   "cell_type": "markdown",
   "metadata": {},
   "source": [
    "## Levantamiento y manejo de excepciones\n",
    "### Raise\n",
    "Anteriromente se mencionaron varios tipos de excepciones, pero podemos leventar nosotros nuestras propias excepciones usando `raise`. Cada excepcion tiene un mensaje explicativo y nosotros con esto, podremos crear nuestras propias sentencias.\n",
    "Por ejemplo, si tenemos el siguiente programa, que recibe un str de la forma *int,int* que son las coordenadas de nuestro programa. Si las coordenadas se ingresan mal, ya sea porque no se recibio un numero o porque falta la \",\", podemos levantar nuestras propias excepciones."
   ]
  },
  {
   "cell_type": "code",
   "execution_count": 15,
   "metadata": {},
   "outputs": [],
   "source": [
    "def convertir_coordenada(coordenada_en_string):\n",
    "    # Si el input no es del tipo esperado\n",
    "    if not isinstance(coordenada_en_string, str):\n",
    "        # aquí se genera una excepción y se incluye información para el usuario.\n",
    "        raise TypeError(\"Coordenada debe ser un string\")\n",
    "\n",
    "    # Si el input no sigue el formato esperado\n",
    "    if \",\" not in coordenada_en_string:\n",
    "        # aquí se genera otra excepción y se incluye información para el usuario.\n",
    "        raise ValueError(\"Coordenada debe estar separada por una coma\")\n",
    "\n",
    "    coord_x, coord_y = coordenada_en_string.split(\",\")\n",
    "    return (int(coord_x), int(coord_y))"
   ]
  },
  {
   "cell_type": "code",
   "execution_count": 16,
   "metadata": {},
   "outputs": [
    {
     "name": "stdout",
     "output_type": "stream",
     "text": [
      "56 1123\n"
     ]
    }
   ],
   "source": [
    "texto_1 = \"56, 1123\"\n",
    "x, y = convertir_coordenada(texto_1)\n",
    "print(x, y)"
   ]
  },
  {
   "cell_type": "code",
   "execution_count": 17,
   "metadata": {},
   "outputs": [
    {
     "ename": "TypeError",
     "evalue": "Coordenada debe ser un string",
     "output_type": "error",
     "traceback": [
      "\u001b[1;31m---------------------------------------------------------------------------\u001b[0m",
      "\u001b[1;31mTypeError\u001b[0m                                 Traceback (most recent call last)",
      "Cell \u001b[1;32mIn[17], line 2\u001b[0m\n\u001b[0;32m      1\u001b[0m no_texto \u001b[38;5;241m=\u001b[39m [\u001b[38;5;241m43\u001b[39m, \u001b[38;5;241m3\u001b[39m]\n\u001b[1;32m----> 2\u001b[0m x, y \u001b[38;5;241m=\u001b[39m \u001b[43mconvertir_coordenada\u001b[49m\u001b[43m(\u001b[49m\u001b[43mno_texto\u001b[49m\u001b[43m)\u001b[49m\n\u001b[0;32m      3\u001b[0m \u001b[38;5;28mprint\u001b[39m(x, y)\n",
      "Cell \u001b[1;32mIn[15], line 5\u001b[0m, in \u001b[0;36mconvertir_coordenada\u001b[1;34m(coordenada_en_string)\u001b[0m\n\u001b[0;32m      1\u001b[0m \u001b[38;5;28;01mdef\u001b[39;00m \u001b[38;5;21mconvertir_coordenada\u001b[39m(coordenada_en_string):\n\u001b[0;32m      2\u001b[0m     \u001b[38;5;66;03m# Si el input no es del tipo esperado\u001b[39;00m\n\u001b[0;32m      3\u001b[0m     \u001b[38;5;28;01mif\u001b[39;00m \u001b[38;5;129;01mnot\u001b[39;00m \u001b[38;5;28misinstance\u001b[39m(coordenada_en_string, \u001b[38;5;28mstr\u001b[39m):\n\u001b[0;32m      4\u001b[0m         \u001b[38;5;66;03m# aquí se genera una excepción y se incluye información para el usuario.\u001b[39;00m\n\u001b[1;32m----> 5\u001b[0m         \u001b[38;5;28;01mraise\u001b[39;00m \u001b[38;5;167;01mTypeError\u001b[39;00m(\u001b[38;5;124m\"\u001b[39m\u001b[38;5;124mCoordenada debe ser un string\u001b[39m\u001b[38;5;124m\"\u001b[39m)\n\u001b[0;32m      7\u001b[0m     \u001b[38;5;66;03m# Si el input no sigue el formato esperado\u001b[39;00m\n\u001b[0;32m      8\u001b[0m     \u001b[38;5;28;01mif\u001b[39;00m \u001b[38;5;124m\"\u001b[39m\u001b[38;5;124m,\u001b[39m\u001b[38;5;124m\"\u001b[39m \u001b[38;5;129;01mnot\u001b[39;00m \u001b[38;5;129;01min\u001b[39;00m coordenada_en_string:\n\u001b[0;32m      9\u001b[0m         \u001b[38;5;66;03m# aquí se genera otra excepción y se incluye información para el usuario.\u001b[39;00m\n",
      "\u001b[1;31mTypeError\u001b[0m: Coordenada debe ser un string"
     ]
    }
   ],
   "source": [
    "no_texto = [43, 3]\n",
    "x, y = convertir_coordenada(no_texto)\n",
    "print(x, y)"
   ]
  },
  {
   "cell_type": "code",
   "execution_count": 18,
   "metadata": {},
   "outputs": [
    {
     "ename": "ValueError",
     "evalue": "Coordenada debe estar separada por una coma",
     "output_type": "error",
     "traceback": [
      "\u001b[1;31m---------------------------------------------------------------------------\u001b[0m",
      "\u001b[1;31mValueError\u001b[0m                                Traceback (most recent call last)",
      "Cell \u001b[1;32mIn[18], line 2\u001b[0m\n\u001b[0;32m      1\u001b[0m texto_incorrecto \u001b[38;5;241m=\u001b[39m \u001b[38;5;124m\"\u001b[39m\u001b[38;5;124m23 - 54\u001b[39m\u001b[38;5;124m\"\u001b[39m\n\u001b[1;32m----> 2\u001b[0m x, y \u001b[38;5;241m=\u001b[39m \u001b[43mconvertir_coordenada\u001b[49m\u001b[43m(\u001b[49m\u001b[43mtexto_incorrecto\u001b[49m\u001b[43m)\u001b[49m\n\u001b[0;32m      3\u001b[0m \u001b[38;5;28mprint\u001b[39m(x, y)\n",
      "Cell \u001b[1;32mIn[15], line 10\u001b[0m, in \u001b[0;36mconvertir_coordenada\u001b[1;34m(coordenada_en_string)\u001b[0m\n\u001b[0;32m      7\u001b[0m \u001b[38;5;66;03m# Si el input no sigue el formato esperado\u001b[39;00m\n\u001b[0;32m      8\u001b[0m \u001b[38;5;28;01mif\u001b[39;00m \u001b[38;5;124m\"\u001b[39m\u001b[38;5;124m,\u001b[39m\u001b[38;5;124m\"\u001b[39m \u001b[38;5;129;01mnot\u001b[39;00m \u001b[38;5;129;01min\u001b[39;00m coordenada_en_string:\n\u001b[0;32m      9\u001b[0m     \u001b[38;5;66;03m# aquí se genera otra excepción y se incluye información para el usuario.\u001b[39;00m\n\u001b[1;32m---> 10\u001b[0m     \u001b[38;5;28;01mraise\u001b[39;00m \u001b[38;5;167;01mValueError\u001b[39;00m(\u001b[38;5;124m\"\u001b[39m\u001b[38;5;124mCoordenada debe estar separada por una coma\u001b[39m\u001b[38;5;124m\"\u001b[39m)\n\u001b[0;32m     12\u001b[0m coord_x, coord_y \u001b[38;5;241m=\u001b[39m coordenada_en_string\u001b[38;5;241m.\u001b[39msplit(\u001b[38;5;124m\"\u001b[39m\u001b[38;5;124m,\u001b[39m\u001b[38;5;124m\"\u001b[39m)\n\u001b[0;32m     13\u001b[0m \u001b[38;5;28;01mreturn\u001b[39;00m (\u001b[38;5;28mint\u001b[39m(coord_x), \u001b[38;5;28mint\u001b[39m(coord_y))\n",
      "\u001b[1;31mValueError\u001b[0m: Coordenada debe estar separada por una coma"
     ]
    }
   ],
   "source": [
    "texto_incorrecto = \"23 - 54\"\n",
    "x, y = convertir_coordenada(texto_incorrecto)\n",
    "print(x, y)"
   ]
  },
  {
   "cell_type": "markdown",
   "metadata": {},
   "source": [
    "### Try / Except\n",
    "Cuando se levanta una excepcion en python, uno puede \"atraparla\" usando `try` y `except`.\n",
    "La sentencia `try` puede definir un **bloque de codigo** , para que, al momento de levantarse una excepcion, esta pueda ser manejada a nuestro gusto. Despues de las sentencias \"try\", deben haber sentencias `except` que manejan el codigo a nuestra conveniencia. Cabe recalcar que las excepciones que se atrapan son unicamente las posibles que salgan en el codigo. Me refiero a que si tenemos un codigo que **no tiene diccionarios**, no se podra atrapar una excepcion del tipo **KeyError**."
   ]
  },
  {
   "cell_type": "markdown",
   "metadata": {},
   "source": [
    "# Programación funcional \n"
   ]
  },
  {
   "cell_type": "markdown",
   "metadata": {},
   "source": [
    "Es un paradigma de programación que sigue una estructura lineal, es decir que no se centra en crear objetos, trata de que todo el comportamiento se vea encapsulado en **funciones**, en la programación funcional pura su resultado depende **solo** de los inputs de la función"
   ]
  },
  {
   "cell_type": "markdown",
   "metadata": {},
   "source": [
    "## Funciones generadoras\n"
   ]
  },
  {
   "cell_type": "markdown",
   "metadata": {},
   "source": [
    "Son muy similares a la funciones normales, pero en vez de retornar `return` usa `yield`, la gran diferencia entre estas dos es que `yield` no termina la ejecución del código"
   ]
  },
  {
   "cell_type": "code",
   "execution_count": 2,
   "metadata": {},
   "outputs": [
    {
     "name": "stdout",
     "output_type": "stream",
     "text": [
      "[1, 4, 9, 16, 25, 36, 49, 64, 81, 100, 121, 144, 169, 196, 225, 256, 289, 324, 361, 400]\n"
     ]
    }
   ],
   "source": [
    "def cuadrados_perfectos(maximo):\n",
    "    i = 1\n",
    "    while i <= maximo:\n",
    "        yield i**2\n",
    "        i+=1\n",
    "\n",
    "generador = cuadrados_perfectos(20)\n",
    "print([a for a in generador])"
   ]
  }
 ],
 "metadata": {
  "kernelspec": {
   "display_name": "Python 3",
   "language": "python",
   "name": "python3"
  },
  "language_info": {
   "codemirror_mode": {
    "name": "ipython",
    "version": 3
   },
   "file_extension": ".py",
   "mimetype": "text/x-python",
   "name": "python",
   "nbconvert_exporter": "python",
   "pygments_lexer": "ipython3",
   "version": "3.11.7"
  }
 },
 "nbformat": 4,
 "nbformat_minor": 2
}
