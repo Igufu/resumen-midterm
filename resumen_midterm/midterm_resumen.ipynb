{
 "cells": [
  {
   "cell_type": "markdown",
   "metadata": {},
   "source": [
    "<p>\n",
    "<font size='5' face='Georgia, Arial'>Resumen Midterm Programación Avanzada</font><br>\n",
    "<font size='1'> Material creado en 2024-2 por Ignacio Gutiérrez.</font>\n",
    "</p>"
   ]
  },
  {
   "cell_type": "markdown",
   "metadata": {},
   "source": [
    "# ¿Qué es esto?\n",
    "Esto es un resumen para preparar la prueba midterm de programación avanzada :)"
   ]
  },
  {
   "cell_type": "markdown",
   "metadata": {},
   "source": [
    "# Contenidos\n",
    "\n",
    "1. [Modularización, paths y git](midterm%20resumen.ipynb#modularización-paths-y-git)\n",
    "2. EDD (Tuples, Sets, *args, etc.)\n",
    "3. OOP Avanzado\n",
    "4. [Modelacion OOP e iterables](#modelacion-oop-e-iterables)\n",
    "5. Excepciones\n",
    "6. Programación funcional\n"
   ]
  },
  {
   "cell_type": "markdown",
   "metadata": {},
   "source": [
    "# Motivación\n",
    "\n",
    "El midterm es una prueba que nos ayuda a absorber mejor los contenidos enseñados durante la primera mitad de este semestre, nos ayudara especialmente a como aplicarlos de manera apropiada y distinguir comportamientos raros en códigos."
   ]
  },
  {
   "cell_type": "markdown",
   "metadata": {},
   "source": [
    "## Modularización, paths y git\n",
    "\n",
    "1. [Modularización](#modularización)\n",
    "2. [Paths](#Paths)\n",
    "3. [git]\n",
    "\n"
   ]
  },
  {
   "cell_type": "markdown",
   "metadata": {},
   "source": [
    "## Modularización\n",
    "\n",
    "### ¿Qué es la modularización?\n",
    "En resumen la modularización consiste en separar de manera ordenada el código de un programa en diferentes archivos\n",
    "\n",
    "### Importación en python\n",
    "Para importar archivos en python se utiliza el comando `import`, digamos que tienes el archivo `utils.py`, para importarlo dentro de otro archivo puedes hacer esto:\n"
   ]
  },
  {
   "cell_type": "code",
   "execution_count": null,
   "metadata": {},
   "outputs": [],
   "source": [
    "import ejemplo"
   ]
  },
  {
   "cell_type": "code",
   "execution_count": null,
   "metadata": {},
   "outputs": [],
   "source": [
    "ejemplo.saludar()"
   ]
  },
  {
   "cell_type": "markdown",
   "metadata": {},
   "source": [
    "También se puede importar un módulo con un alias\n"
   ]
  },
  {
   "cell_type": "code",
   "execution_count": null,
   "metadata": {},
   "outputs": [],
   "source": [
    "import ejemplo as ej\n",
    "ej.saludar()"
   ]
  },
  {
   "cell_type": "markdown",
   "metadata": {},
   "source": [
    "También se puede importar de manera parcial, esto hará que no debamos escribir el nombre del módulo antes de la función"
   ]
  },
  {
   "cell_type": "code",
   "execution_count": 1,
   "metadata": {},
   "outputs": [],
   "source": [
    "from ejemplo import saludar, despedirse"
   ]
  },
  {
   "cell_type": "code",
   "execution_count": 2,
   "metadata": {},
   "outputs": [
    {
     "name": "stdout",
     "output_type": "stream",
     "text": [
      "Holi :)\n",
      "Chau :(\n"
     ]
    },
    {
     "ename": "NameError",
     "evalue": "name 'yapping' is not defined",
     "output_type": "error",
     "traceback": [
      "\u001b[0;31m---------------------------------------------------------------------------\u001b[0m",
      "\u001b[0;31mNameError\u001b[0m                                 Traceback (most recent call last)",
      "Cell \u001b[0;32mIn[2], line 3\u001b[0m\n\u001b[1;32m      1\u001b[0m saludar()\n\u001b[1;32m      2\u001b[0m despedirse()\n\u001b[0;32m----> 3\u001b[0m \u001b[43myapping\u001b[49m()\n",
      "\u001b[0;31mNameError\u001b[0m: name 'yapping' is not defined"
     ]
    }
   ],
   "source": [
    "saludar()\n",
    "despedirse()\n",
    "yapping()"
   ]
  },
  {
   "cell_type": "markdown",
   "metadata": {},
   "source": [
    "Esto último nos dió error ya que no importamos la función `yapping()` de `ejemplo.py`"
   ]
  },
  {
   "cell_type": "markdown",
   "metadata": {},
   "source": [
    "También si usamos la importación parcial y tratamos de usar el syntax de `modulo.función` nos dará un error:"
   ]
  },
  {
   "cell_type": "code",
   "execution_count": 3,
   "metadata": {},
   "outputs": [
    {
     "ename": "NameError",
     "evalue": "name 'ejemplo' is not defined",
     "output_type": "error",
     "traceback": [
      "\u001b[0;31m---------------------------------------------------------------------------\u001b[0m",
      "\u001b[0;31mNameError\u001b[0m                                 Traceback (most recent call last)",
      "Cell \u001b[0;32mIn[3], line 1\u001b[0m\n\u001b[0;32m----> 1\u001b[0m \u001b[43mejemplo\u001b[49m\u001b[38;5;241m.\u001b[39msaludar()\n",
      "\u001b[0;31mNameError\u001b[0m: name 'ejemplo' is not defined"
     ]
    }
   ],
   "source": [
    "ejemplo.saludar()"
   ]
  },
  {
   "cell_type": "markdown",
   "metadata": {},
   "source": [
    "### ¡No hacer esto!\n",
    "\n",
    "\n"
   ]
  },
  {
   "cell_type": "code",
   "execution_count": null,
   "metadata": {},
   "outputs": [],
   "source": [
    "from ejemplo import *"
   ]
  },
  {
   "cell_type": "markdown",
   "metadata": {},
   "source": [
    "Esto importa todas las funciones de nuestro módulo, pero es considerado muy mala práctica y es sancionado por el curso."
   ]
  },
  {
   "cell_type": "markdown",
   "metadata": {},
   "source": [
    "También según las reglas del PEP-8 las importaciones siempre deberían hacerse al comienzo de nuestro código"
   ]
  },
  {
   "cell_type": "markdown",
   "metadata": {},
   "source": [
    "## Orden de ejecución de imports\n",
    "\n",
    "De forma muy resumida los imports se ejecutan en orden ejecutando el archivo importado completamente\n",
    "\n",
    "A forma de ejemplo si tenemos `main.py` que importa `game.py` y este importa `utils.py`, al ejecutar `main.py` sería algo así:\n",
    "\n",
    "- Se ejecuta `main.py` hasta la línea de `import game`\n",
    "- Se ejecuta `game.py` hasta la línea de `import utils`\n",
    "- Se ejecuta `utils.py` completamente\n",
    "- Se ejecuta `game.py` completamente\n",
    "- Se ejecuta `main.py` completamente\n"
   ]
  },
  {
   "cell_type": "markdown",
   "metadata": {},
   "source": [
    "### `if __name__ == '__main__'`, ¿Qué es eso?, ¿Se come?\n",
    "\n"
   ]
  },
  {
   "cell_type": "markdown",
   "metadata": {},
   "source": [
    "La variable `__name__` simplemente nos da el nombre del módulo que está siendo ejecutado cuando se accede a una variable\n"
   ]
  },
  {
   "cell_type": "code",
   "execution_count": 4,
   "metadata": {},
   "outputs": [
    {
     "data": {
      "text/plain": [
       "'ejemplo'"
      ]
     },
     "execution_count": 4,
     "metadata": {},
     "output_type": "execute_result"
    }
   ],
   "source": [
    "import ejemplo\n",
    "\n",
    "ejemplo.__name__"
   ]
  },
  {
   "cell_type": "markdown",
   "metadata": {},
   "source": [
    "También será el nombre del módulo aunque tenga un alias diferente\n"
   ]
  },
  {
   "cell_type": "code",
   "execution_count": 5,
   "metadata": {},
   "outputs": [
    {
     "data": {
      "text/plain": [
       "'ejemplo'"
      ]
     },
     "execution_count": 5,
     "metadata": {},
     "output_type": "execute_result"
    }
   ],
   "source": [
    "import ejemplo as totallynotejemplo\n",
    "\n",
    "totallynotejemplo.__name__"
   ]
  },
  {
   "cell_type": "markdown",
   "metadata": {},
   "source": [
    "`if __name__ == '__main__'` simplemente se utiliza para asegurar que el módulo está siendo ejecutado como el principal, ya que `'__main__'` siempre es el nombre del módulo que se está ejecutando"
   ]
  },
  {
   "cell_type": "code",
   "execution_count": 8,
   "metadata": {},
   "outputs": [
    {
     "data": {
      "text/plain": [
       "'__main__'"
      ]
     },
     "execution_count": 8,
     "metadata": {},
     "output_type": "execute_result"
    }
   ],
   "source": [
    "__name__"
   ]
  },
  {
   "cell_type": "markdown",
   "metadata": {},
   "source": [
    "Algúnas ventajas de usar módulos son: tener código más ordenado, código más fácil de debuggear, mejor abstracción de componentes para enfocarse en el funcionamiento del programa, etc."
   ]
  },
  {
   "cell_type": "markdown",
   "metadata": {},
   "source": [
    "### Pregunta\n",
    "\n"
   ]
  },
  {
   "cell_type": "markdown",
   "metadata": {},
   "source": [
    "<center><img src=\"data/p_modularizacion.png\" alt=\"pregunta_mod\" style=\"width: 600px;\"/></center>"
   ]
  },
  {
   "cell_type": "markdown",
   "metadata": {},
   "source": [
    "<details>\n",
    "  <summary>Respuesta</summary>\n",
    "  C)\n",
    "</details>\n"
   ]
  },
  {
   "cell_type": "markdown",
   "metadata": {},
   "source": [
    "## Paths\n"
   ]
  },
  {
   "cell_type": "markdown",
   "metadata": {},
   "source": [
    "## Módulo `os`"
   ]
  },
  {
   "cell_type": "markdown",
   "metadata": {},
   "source": [
    "El módulo [`os`](https://docs.python.org/3/library/os.html) de Python nos provee una interfaz portable para ejecutar operaciones relacionadas al sistema operativo y al sistema de archivos. Lo este caso lo usaremos para hacer operaciones sobre *paths* con `os.path`"
   ]
  },
  {
   "cell_type": "code",
   "execution_count": 1,
   "metadata": {},
   "outputs": [],
   "source": [
    "import os"
   ]
  },
  {
   "cell_type": "markdown",
   "metadata": {},
   "source": [
    "## Paths y archivos\n"
   ]
  },
  {
   "cell_type": "markdown",
   "metadata": {},
   "source": [
    "Un path o ruta en español se refiere al lugar donde se encuentra un archivo, si te has dado cuenta los archivos y carpetas en un computador están guardados de manera jerárquica, un *path* simplemente se refiere a la ruta de un archivo o carpeta dentro de esta jerarquía.\n"
   ]
  },
  {
   "cell_type": "markdown",
   "metadata": {},
   "source": [
    "### Paths absolutos y relativos\n"
   ]
  },
  {
   "cell_type": "markdown",
   "metadata": {},
   "source": [
    "- Un **path absoluto** comienza desde la raíz (o *root*) del directiorio de archivos, generalmente esta raíz es representada por un `/` aunque en windows (le gusta ser diferente) se presenta también como `\\` o `C:/`, los paths absolutos tienen la ventaja de no ser ambiguos, pero requieren una ruta **exactamente igual** en todos los sistemas para que se pueda ejecutar un programa (no recomendado).\n",
    "\n",
    "- Un **path relativo** jamás desde la raíz (o *root*) del directiorio de archivos, permite referenciar un directorio de manera más simple ya que no recurre a la jerarquía entera (también es lo que usamos generalmente en las tareas), igual hay que tener cuidado ejecutarlo de un directorio diferente, especialmente en diferentes sistemas operativos."
   ]
  },
  {
   "cell_type": "markdown",
   "metadata": {},
   "source": [
    "### `dirname` y `basename`"
   ]
  },
  {
   "cell_type": "markdown",
   "metadata": {},
   "source": [
    "- `dirname`: simplemente se refiere a la carpeta donde se encuentra un archivo\n",
    "- `basename`: es el nombre del archivo objetivo (también se le llama `filename`)"
   ]
  },
  {
   "cell_type": "code",
   "execution_count": 2,
   "metadata": {},
   "outputs": [
    {
     "name": "stdout",
     "output_type": "stream",
     "text": [
      "path: /carpeta1/carpeta2/veryimportantstuff.tex\n",
      "dirname: /carpeta1/carpeta2\n",
      "basename: veryimportantstuff.tex\n"
     ]
    }
   ],
   "source": [
    "my_path = '/carpeta1/carpeta2/veryimportantstuff.tex'\n",
    "\n",
    "dirname1 = os.path.dirname(my_path)\n",
    "basename1 = os.path.basename(my_path)\n",
    "\n",
    "print(f'path: {my_path}')\n",
    "print(f'dirname: {dirname1}')\n",
    "print(f'basename: {basename1}')"
   ]
  },
  {
   "cell_type": "code",
   "execution_count": 4,
   "metadata": {},
   "outputs": [
    {
     "name": "stdout",
     "output_type": "stream",
     "text": [
      "path: /Users/Documents/IIC2233/iic2233github_user/Tareas/T3/main.py\n",
      "dirname: /Users/Documents/IIC2233/iic2233github_user/Tareas/T3\n",
      "basename: main.py\n"
     ]
    }
   ],
   "source": [
    "# Una ruta un poco más realista\n",
    "my_path2 = '/Users/Documents/IIC2233/iic2233github_user/Tareas/T3/main.py'\n",
    "\n",
    "dirname2 = os.path.dirname(path2)\n",
    "basename2 = os.path.basename(path2)\n",
    "\n",
    "print(f'path: {my_path2}')\n",
    "print(f'dirname: {dirname2}')\n",
    "print(f'basename: {basename2}')"
   ]
  },
  {
   "cell_type": "markdown",
   "metadata": {},
   "source": [
    "### Extensiones de archivo"
   ]
  },
  {
   "cell_type": "markdown",
   "metadata": {},
   "source": [
    "Con `os.path.splitext()` podemos conseguir las extensiones de archivo de nuestros archivos, esto sirve para darle una pista al usuario de como abrir el archivo o bien darle una pista al sistema operativo para que sepa con que programa leerlo."
   ]
  },
  {
   "cell_type": "code",
   "execution_count": null,
   "metadata": {},
   "outputs": [],
   "source": [
    "nombre_sin_extension, extension = os.path.splitext(basename2)\n",
    "print(f'Nombre: {nombre_sin_extension}')\n",
    "print(f'Extensión: {extension}')"
   ]
  },
  {
   "cell_type": "markdown",
   "metadata": {},
   "source": [
    "# Modelacion OOP e iterables"
   ]
  },
  {
   "cell_type": "markdown",
   "metadata": {},
   "source": [
    "## Diagrama de clases\n",
    "Antes de comenzar con los contenidos de programacion en si, debemos tener claro que es un diagrama de clase, como hacerlo, para que sirve y como se ven.\n",
    "El **diagrama de clases** es una herramienta muy útil que permite visualizar fácilmente las clases que componen un sistema. Como en el curso elaboramos programas mas complejos, es necesario tener conocimiento de esto pues nos ayudara a organizarnos con nuestro codigo y planificar mejor nuestros programas.\n",
    "### Elementos de un diagrama de clases\n",
    "Un diagrama de clases se compone de **clases** y **relaciones**.\n",
    "### Clases\n",
    "Las clases corresponden a las estructuras básicas que ***encapsulan*** la información. Gráficamente, como muestra la figura a continuación, representaremos una clase con un rectángulo dividido en tres niveles. El primer nivel contiene el nombre de la clase; el segundo contiene los atributos, _properties_ o variables propias de la clase; y, finalmente, el tercero contiene los métodos propios de la clase.\n",
    "\n",
    "![](data/UML_class.png)"
   ]
  },
  {
   "cell_type": "markdown",
   "metadata": {},
   "source": [
    "### Relaciones\n",
    "Los diagramas de clases explican cómo ocurre la interacción entre las clases dentro del sistema que modelamos, las cuales representamos como relaciones. A continuacion se mencionaran algunas de ellas: (extraido de ayudantias)\n",
    "* *Herencia:* Si una clase hereda de otra, **se conectarán ambas con una linea y un triángulo**. El triángulo apuntará **siempre** a la clase padre.\n",
    "* *Agregación:* Un objeto A contiene a otro objeto B en su interior (en una lista, en un atributo etc.), pero cumple con que **B puede funcionar independientemente de A**. En el diagrama se representa con una **línea y un diamante blanco** cerca de la clase que contiene a la otra.\n",
    "* *Composición:* Un objeto A contiene a otro objeto B en su interior (en una lista, en un atributo etc.), pero cumple con que **B solo existe dentro de A**. En el diagrama se representa con una línea y **un diamante negro** cerca de la clase que contiene a la otra.\n",
    "\n",
    "<p align=\"center\">\n",
    "  <img src=\"data/ejemplo_grafica_clases.jpg\" alt=\"Si no carga revisa la carpeta data\" width= \"500\">\n",
    "</p>\n",
    "\n",
    "A continuacion se adjuntara una imagen (extraida de la ayudantia) que mostrara lo ya mencionado:\n",
    "\n",
    "![Imagen diagrama de ayudantia...](data\\diagrama_de_clases.png)"
   ]
  },
  {
   "cell_type": "markdown",
   "metadata": {},
   "source": [
    "## Clases abstractas\n",
    "Las clases abstractas en resumen, son clases \"molde\" que sirven para representar el comportamiento que deben tener todas las clases que hereden de ellas **como minimo**. Estas clases **NO PUEDEN SER INSTANCIADAS**, por ende, no se puede hacer esto:"
   ]
  },
  {
   "cell_type": "code",
   "execution_count": 11,
   "metadata": {},
   "outputs": [
    {
     "ename": "TypeError",
     "evalue": "Can't instantiate abstract class Guerrero with abstract method ataque",
     "output_type": "error",
     "traceback": [
      "\u001b[1;31m---------------------------------------------------------------------------\u001b[0m",
      "\u001b[1;31mTypeError\u001b[0m                                 Traceback (most recent call last)",
      "Cell \u001b[1;32mIn[11], line 8\u001b[0m\n\u001b[0;32m      6\u001b[0m         \u001b[38;5;28;01mreturn\u001b[39;00m \u001b[38;5;124m\"\u001b[39m\u001b[38;5;124mAtaqueeeeee!!!!!\u001b[39m\u001b[38;5;124m\"\u001b[39m\n\u001b[0;32m      7\u001b[0m \u001b[38;5;66;03m#--------------------------\u001b[39;00m\n\u001b[1;32m----> 8\u001b[0m guerrero \u001b[38;5;241m=\u001b[39m \u001b[43mGuerrero\u001b[49m\u001b[43m(\u001b[49m\u001b[43m)\u001b[49m\n",
      "\u001b[1;31mTypeError\u001b[0m: Can't instantiate abstract class Guerrero with abstract method ataque"
     ]
    }
   ],
   "source": [
    "from abc import ABC, abstractmethod\n",
    "\n",
    "class Guerrero(ABC):\n",
    "    @abstractmethod\n",
    "    def ataque(self):\n",
    "        return \"Ataqueeeeee!!!!!\"\n",
    "#--------------------------\n",
    "guerrero = Guerrero()"
   ]
  },
  {
   "cell_type": "markdown",
   "metadata": {},
   "source": [
    "Se define `Guerrero` haciendola abstracta (`ABC` y usando @abstracmethod). Su metodo `ataque` tambien es abstracto, entonces al momento de instanciar la clase nos tira ese error. \\\n",
    "**Una clase no se considera abstracta si no tiene al menos 1 @abstractmethod** \n",
    "Habiendo entendido lo anterior, se mostrara una aplicacion de clase abstracta:"
   ]
  },
  {
   "cell_type": "code",
   "execution_count": 29,
   "metadata": {},
   "outputs": [
    {
     "name": "stdout",
     "output_type": "stream",
     "text": [
      "No recibi daños del romano!\n",
      "Le hice 20 de daño al romano!\n",
      "El espartano me ataco! Ahora mi vida es de 80\n",
      "Le hice 16 de daño al espartano!\n",
      "El romano me ataco! Ahora mi vida es de 84\n",
      "Le hice 12 de daño al romano!\n",
      "El espartano me ataco! Ahora mi vida es de 68\n",
      "Le hice 17 de daño al espartano!\n",
      "El romano me ataco! Ahora mi vida es de 67\n",
      "Le hice 11 de daño al romano!\n",
      "El espartano me ataco! Ahora mi vida es de 57\n",
      "Le hice 21 de daño al espartano!\n",
      "El romano me ataco! Ahora mi vida es de 46\n",
      "Le hice 11 de daño al romano!\n",
      "El espartano me ataco! Ahora mi vida es de 46\n",
      "Le hice 19 de daño al espartano!\n",
      "El romano me ataco! Ahora mi vida es de 27\n",
      "Le hice 22 de daño al romano!\n",
      "El espartano me ataco! Ahora mi vida es de 24\n",
      "Le hice 12 de daño al espartano!\n",
      "El romano me ataco! Ahora mi vida es de 15\n",
      "Le hice 20 de daño al romano!\n",
      "El espartano me ataco! Ahora mi vida es de 4\n",
      "Has matado al Espartano!\n"
     ]
    }
   ],
   "source": [
    "from abc import ABC, abstractmethod\n",
    "import random\n",
    "class Guerrero(ABC):\n",
    "    def __init__(self, vida) -> None: #le quite el escudo pq me dio lata xd\n",
    "        self._vida = vida\n",
    "    \n",
    "    @property\n",
    "    def vida(self):\n",
    "        return self._vida\n",
    "    \n",
    "    @vida.setter\n",
    "    def vida(self, daño):\n",
    "        if daño > self._vida:\n",
    "            self._vida = 0\n",
    "        else:\n",
    "            self._vida = daño\n",
    "            return self._vida\n",
    "\n",
    "    @abstractmethod\n",
    "    def ataque(self):\n",
    "        pass\n",
    "\n",
    "    @abstractmethod\n",
    "    def daño(self):\n",
    "        pass\n",
    "\n",
    "class Espartano(Guerrero): #hereda de la clase abstracta\n",
    "    def __init__(self, vida: int) -> None: \n",
    "        super().__init__(vida) #hereda de la clase abstracta\n",
    "    \n",
    "    def ataque(self, daño: int, rival: object): #haciendo overriding del metodo\n",
    "        rival.vida-= daño\n",
    "        if rival.vida < 0:\n",
    "            return \"Has matado al romano!\"\n",
    "        else:\n",
    "            return f\"Le hice {daño} de daño al romano!\"\n",
    "        \n",
    "    def daño(self, daño): #haciendo overriding del metodo\n",
    "        if daño > 0: \n",
    "            print(f\"El romano me ataco! Ahora mi vida es de {self.vida}\")\n",
    "        else:\n",
    "            print(\"No recibi daños del romano!\")\n",
    "class Romano(Guerrero): #hereda de la clase abstracta\n",
    "    def __init__(self, vida: int) -> None:\n",
    "        super().__init__(vida) #hereda de la clase abstracta\n",
    "    \n",
    "    def ataque(self, daño: int, rival: object): #haciendo overriding del metodo\n",
    "        rival.vida-= daño\n",
    "        if rival.vida < 0:\n",
    "            return \"Has matado al Espartano!\"\n",
    "        else:\n",
    "            return f\"Le hice {daño} de daño al espartano!\"\n",
    "\n",
    "    def daño(self, daño): #haciendo overriding del metodo\n",
    "        if daño > 0: \n",
    "            print(f\"El espartano me ataco! Ahora mi vida es de {self.vida}\")\n",
    "        else:\n",
    "            print(\"No recibi daños del espartano!\")\n",
    "#--------------------------\n",
    "espartano = Espartano(100)\n",
    "romano = Romano(100)\n",
    "daño_romano = 0\n",
    "daño_espartano = 0\n",
    "while espartano.vida > 0 and romano.vida > 0:\n",
    "    if espartano.vida > 0:\n",
    "        daño_espartano = random.randint(10, 25)\n",
    "        espartano.daño(daño_romano)\n",
    "        print(espartano.ataque(daño_espartano, romano)) \n",
    "    if romano.vida > 0:\n",
    "        daño_romano = random.randint(10, 25)\n",
    "        romano.daño(daño_espartano)\n",
    "        print(romano.ataque(daño_romano, espartano))\n",
    "    \n",
    "        \n",
    "    "
   ]
  },
  {
   "cell_type": "markdown",
   "metadata": {},
   "source": [
    "Entonces, una clase es **abstracta** si:\n",
    "- Es una clase que no se debería instanciar directamente\n",
    "- Contiene uno o más métodos abstractos\n",
    "- Sus subclases implementan todos sus métodos abstractos"
   ]
  },
  {
   "cell_type": "markdown",
   "metadata": {},
   "source": [
    "### Ejercicios de la seccion de modelamiento OOP e iteradores:\n",
    "1. A continuacion deberas dibujar el diagrama de clase del siguiente codigo: (extraido de contenidos)"
   ]
  },
  {
   "cell_type": "code",
   "execution_count": null,
   "metadata": {},
   "outputs": [],
   "source": [
    "class Juego:\n",
    "\n",
    "    def __init__(self):\n",
    "        self.timestamp_inicio = 0\n",
    "        self.tiempo_actual = 0\n",
    "        self.personaje = Mario()\n",
    "        self.puntaje = 0\n",
    "        self.goombas = list()\n",
    "        self.champinones = list()\n",
    "        self.ladrillos = list()\n",
    "\n",
    "    def iniciar_juego():\n",
    "        pass\n",
    "\n",
    "    def finalizar_juego():\n",
    "        pass\n",
    "\n",
    "\n",
    "class Mario:\n",
    "\n",
    "    def __init__(self):\n",
    "        self.posicion_x = 0\n",
    "        self.posicion_y = 0\n",
    "        self.cantidad_de_vidas = 5\n",
    "        self.poderes = list()\n",
    "\n",
    "    def avanzar():\n",
    "        pass\n",
    "\n",
    "    def retroceder():\n",
    "        pass\n",
    "\n",
    "    def saltar():\n",
    "        pass\n",
    "\n",
    "    def disparar(poder):\n",
    "        pass\n",
    "\n",
    "class Goomba:\n",
    "    def __init__(self):\n",
    "        self.posicion_x = 0\n",
    "        self.posicion_y = 0\n",
    "        self.vivo = True\n",
    "\n",
    "class Champinon:\n",
    "    def __init__(self, x, y):\n",
    "        self.posicion_x = x\n",
    "        self.posicion_y = y\n",
    "\n",
    "class Ladrillo:\n",
    "    def __init__(self, x, y):\n",
    "        self.posicion_x = x\n",
    "        self.posicion_y = y\n",
    "\n",
    "class LadrilloMoneda(Ladrillo):\n",
    "    def __init__(self, x, y):\n",
    "        super().__init__(x, y)\n",
    "        self.valor_moneda = 10\n",
    "\n",
    "class LadrilloMovil(Ladrillo):\n",
    "    def __init__(self, x, y):\n",
    "        super().__init__(x, y)\n",
    "        self.esconde_champinon = False\n"
   ]
  },
  {
   "cell_type": "markdown",
   "metadata": {},
   "source": [
    "2. Completa el siguiente codigo, para esto debes crear 3 clases:\n",
    "    1. Solaretillo\n",
    "    2. Potencilantro\n",
    "    3. Defensauce\n",
    "* Cada una de esas plantas tiene los atributos de: **tipo: str (S, P, D)/ vida_max: int/ vida: int/ resistencia: int**. Ademas todas las plantas tienen un metodo llamado \"informacion()\", que debe retornar un str que dice la informacion de la planta (todos los atributos). Tu trabajo es crear una clase abstracta y luego crear las plantas respectivas que heredan de la abstracta. Suerte :)"
   ]
  },
  {
   "cell_type": "code",
   "execution_count": null,
   "metadata": {},
   "outputs": [],
   "source": [
    "from abc import ABC\n",
    "#crea la clase abstracta tu solo\n",
    "\n",
    "#-------\n",
    "class Solaretillo():\n",
    "    pass\n",
    "\n",
    "class Potencilantro():\n",
    "    pass\n",
    "\n",
    "class Defensauce():\n",
    "    pass\n",
    "\n",
    "\n",
    "#-------\n",
    "#aqui debes codear para probar que funcione :)"
   ]
  },
  {
   "cell_type": "markdown",
   "metadata": {},
   "source": [
    "# Programación funcional \n"
   ]
  },
  {
   "cell_type": "markdown",
   "metadata": {},
   "source": [
    "Es un paradigma de programación que sigue una estructura lineal, es decir que no se centra en crear objetos, trata de que todo el comportamiento se vea encapsulado en **funciones**, en la programación funcional pura su resultado depende **solo** de los inputs de la función"
   ]
  },
  {
   "cell_type": "markdown",
   "metadata": {},
   "source": [
    "## Funciones generadoras\n"
   ]
  },
  {
   "cell_type": "markdown",
   "metadata": {},
   "source": [
    "Son muy similares a la funciones normales, pero en vez de retornar `return` usa `yield`, la gran diferencia entre estas dos es que `yield` no termina la ejecución del código"
   ]
  },
  {
   "cell_type": "code",
   "execution_count": null,
   "metadata": {},
   "outputs": [],
   "source": [
    "def cuadrados_perfectos(maximo):\n",
    "    i = 1\n",
    "    while i <= maximo:\n",
    "        yield i**2\n",
    "        i+=1\n",
    "\n",
    "generador = cuadrados_perfectos(20)\n",
    "print([a for a in generador])"
   ]
  }
 ],
 "metadata": {
  "kernelspec": {
   "display_name": "Python 3",
   "language": "python",
   "name": "python3"
  },
  "language_info": {
   "codemirror_mode": {
    "name": "ipython",
    "version": 3
   },
   "file_extension": ".py",
   "mimetype": "text/x-python",
   "name": "python",
   "nbconvert_exporter": "python",
   "pygments_lexer": "ipython3",
   "version": "3.11.7"
  }
 },
 "nbformat": 4,
 "nbformat_minor": 2
}
